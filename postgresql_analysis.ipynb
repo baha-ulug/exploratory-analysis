{
 "cells": [
  {
   "cell_type": "code",
   "execution_count": 1,
   "metadata": {},
   "outputs": [
    {
     "name": "stderr",
     "output_type": "stream",
     "text": [
      "C:\\Users\\baha.ulug\\AppData\\Local\\Temp\\ipykernel_20116\\4080181842.py:1: DeprecationWarning: \n",
      "Pyarrow will become a required dependency of pandas in the next major release of pandas (pandas 3.0),\n",
      "(to allow more performant data types, such as the Arrow string type, and better interoperability with other libraries)\n",
      "but was not found to be installed on your system.\n",
      "If this would cause problems for you,\n",
      "please provide us feedback at https://github.com/pandas-dev/pandas/issues/54466\n",
      "        \n",
      "  import pandas as pd\n"
     ]
    }
   ],
   "source": [
    "import pandas as pd\n",
    "import numpy as np\n",
    "\n",
    "import sqlqueries\n",
    "import constants as cons\n",
    "\n",
    "import psycopg2\n",
    "from psycopg2 import sql\n",
    "from sqlalchemy import create_engine"
   ]
  },
  {
   "cell_type": "raw",
   "metadata": {},
   "source": [
    "# Read the data into a pandas DataFrame\n",
    "df = pd.read_csv(\"data/nyc-rolling-sales.csv\", index_col=0)"
   ]
  },
  {
   "cell_type": "raw",
   "metadata": {},
   "source": [
    "df.head()"
   ]
  },
  {
   "cell_type": "raw",
   "metadata": {},
   "source": [
    "# First, let's convert few columns which are categorical \n",
    "# into integer values, so that it is easy for machine to handle values.\n",
    "\n",
    "def sale(string):\n",
    "    if ('-' in string):\n",
    "        return np.NaN\n",
    "    else:\n",
    "        return int(string)\n",
    "    \n",
    "def year_built(string):\n",
    "    if string==0:\n",
    "        return np.NaN\n",
    "    elif ('-' in string):\n",
    "        return np.NaN\n",
    "    else:\n",
    "        return int(string)\n",
    "    \n",
    "df['SALE PRICE'] = df['SALE PRICE'].map(lambda x: sale(x))\n",
    "df['YEAR BUILT'] = df['YEAR BUILT'].map(lambda x: int(x))\n",
    "df['YEAR SOLD'] = df['SALE DATE'].map(lambda x: x[0:4])\n",
    "df['YEAR SOLD'] = df['YEAR SOLD'].map(lambda x: int(x))\n",
    "df['MONTH SOLD'] = df['SALE DATE'].map(lambda x: x[5:7])\n",
    "df['MONTH SOLD'] = df['MONTH SOLD'].map(lambda x: int(x))\n",
    "df['GROSS SQUARE FEET'] = df['GROSS SQUARE FEET'].map(lambda x: year_built(x))\n",
    "df['LAND SQUARE FEET'] = df['LAND SQUARE FEET'].map(lambda x: year_built(x))\n",
    "df['YEAR BUILT'][df['YEAR BUILT']==0]=np.NaN\n",
    "\n",
    "df.rename(columns=cons.column_name_map, inplace=True)"
   ]
  },
  {
   "cell_type": "code",
   "execution_count": 2,
   "metadata": {},
   "outputs": [],
   "source": [
    "connection_params = {\n",
    "    \"host\": \"localhost\",\n",
    "    \"database\": \"test\",\n",
    "    \"user\": \"postgres\",\n",
    "    \"password\": \"admin\",\n",
    "    \"port\": 5432\n",
    "}\n",
    " \n",
    "# Create a PostgreSQL engine using SQLAlchemy\n",
    "engine = create_engine(f'postgresql://{connection_params[\"user\"]}:{connection_params[\"password\"]}@{connection_params[\"host\"]}:{connection_params[\"port\"]}/{connection_params[\"database\"]}')"
   ]
  },
  {
   "cell_type": "raw",
   "metadata": {},
   "source": [
    "# Write the DataFrame to the PostgreSQL table\n",
    "target_table_name = 'nycsales'\n",
    "df.to_sql(target_table_name, engine, index=False, if_exists='replace')"
   ]
  },
  {
   "cell_type": "code",
   "execution_count": 3,
   "metadata": {},
   "outputs": [
    {
     "data": {
      "text/html": [
       "<div>\n",
       "<style scoped>\n",
       "    .dataframe tbody tr th:only-of-type {\n",
       "        vertical-align: middle;\n",
       "    }\n",
       "\n",
       "    .dataframe tbody tr th {\n",
       "        vertical-align: top;\n",
       "    }\n",
       "\n",
       "    .dataframe thead th {\n",
       "        text-align: right;\n",
       "    }\n",
       "</style>\n",
       "<table border=\"1\" class=\"dataframe\">\n",
       "  <thead>\n",
       "    <tr style=\"text-align: right;\">\n",
       "      <th></th>\n",
       "      <th>SALE_PRICE</th>\n",
       "      <th>sale_price_zscore</th>\n",
       "    </tr>\n",
       "  </thead>\n",
       "  <tbody>\n",
       "    <tr>\n",
       "      <th>0</th>\n",
       "      <td>6625000.0</td>\n",
       "      <td>0.468954</td>\n",
       "    </tr>\n",
       "    <tr>\n",
       "      <th>1</th>\n",
       "      <td>NaN</td>\n",
       "      <td>NaN</td>\n",
       "    </tr>\n",
       "    <tr>\n",
       "      <th>2</th>\n",
       "      <td>NaN</td>\n",
       "      <td>NaN</td>\n",
       "    </tr>\n",
       "    <tr>\n",
       "      <th>3</th>\n",
       "      <td>3936272.0</td>\n",
       "      <td>0.233210</td>\n",
       "    </tr>\n",
       "    <tr>\n",
       "      <th>4</th>\n",
       "      <td>8000000.0</td>\n",
       "      <td>0.589513</td>\n",
       "    </tr>\n",
       "  </tbody>\n",
       "</table>\n",
       "</div>"
      ],
      "text/plain": [
       "   SALE_PRICE  sale_price_zscore\n",
       "0   6625000.0           0.468954\n",
       "1         NaN                NaN\n",
       "2         NaN                NaN\n",
       "3   3936272.0           0.233210\n",
       "4   8000000.0           0.589513"
      ]
     },
     "execution_count": 3,
     "metadata": {},
     "output_type": "execute_result"
    }
   ],
   "source": [
    "df = pd.read_sql_query(sqlqueries.query_a, engine)\n",
    "\n",
    "df.head()"
   ]
  },
  {
   "cell_type": "code",
   "execution_count": 4,
   "metadata": {},
   "outputs": [
    {
     "data": {
      "text/html": [
       "<div>\n",
       "<style scoped>\n",
       "    .dataframe tbody tr th:only-of-type {\n",
       "        vertical-align: middle;\n",
       "    }\n",
       "\n",
       "    .dataframe tbody tr th {\n",
       "        vertical-align: top;\n",
       "    }\n",
       "\n",
       "    .dataframe thead th {\n",
       "        text-align: right;\n",
       "    }\n",
       "</style>\n",
       "<table border=\"1\" class=\"dataframe\">\n",
       "  <thead>\n",
       "    <tr style=\"text-align: right;\">\n",
       "      <th></th>\n",
       "      <th>SALE_PRICE</th>\n",
       "      <th>NEIGHBORHOOD</th>\n",
       "      <th>BUILDING_CLASS</th>\n",
       "      <th>sale_price_zscore_neighborhood</th>\n",
       "    </tr>\n",
       "  </thead>\n",
       "  <tbody>\n",
       "    <tr>\n",
       "      <th>0</th>\n",
       "      <td>10.0</td>\n",
       "      <td>AIRPORT LA GUARDIA</td>\n",
       "      <td>A5</td>\n",
       "      <td>-0.885008</td>\n",
       "    </tr>\n",
       "    <tr>\n",
       "      <th>1</th>\n",
       "      <td>792000.0</td>\n",
       "      <td>AIRPORT LA GUARDIA</td>\n",
       "      <td>A5</td>\n",
       "      <td>1.084821</td>\n",
       "    </tr>\n",
       "    <tr>\n",
       "      <th>2</th>\n",
       "      <td>275500.0</td>\n",
       "      <td>AIRPORT LA GUARDIA</td>\n",
       "      <td>A5</td>\n",
       "      <td>-0.199812</td>\n",
       "    </tr>\n",
       "    <tr>\n",
       "      <th>3</th>\n",
       "      <td>970000.0</td>\n",
       "      <td>AIRPORT LA GUARDIA</td>\n",
       "      <td>C0</td>\n",
       "      <td>NaN</td>\n",
       "    </tr>\n",
       "    <tr>\n",
       "      <th>4</th>\n",
       "      <td>1400000.0</td>\n",
       "      <td>AIRPORT LA GUARDIA</td>\n",
       "      <td>C2</td>\n",
       "      <td>NaN</td>\n",
       "    </tr>\n",
       "  </tbody>\n",
       "</table>\n",
       "</div>"
      ],
      "text/plain": [
       "   SALE_PRICE        NEIGHBORHOOD BUILDING_CLASS  \\\n",
       "0        10.0  AIRPORT LA GUARDIA             A5   \n",
       "1    792000.0  AIRPORT LA GUARDIA             A5   \n",
       "2    275500.0  AIRPORT LA GUARDIA             A5   \n",
       "3    970000.0  AIRPORT LA GUARDIA             C0   \n",
       "4   1400000.0  AIRPORT LA GUARDIA             C2   \n",
       "\n",
       "   sale_price_zscore_neighborhood  \n",
       "0                       -0.885008  \n",
       "1                        1.084821  \n",
       "2                       -0.199812  \n",
       "3                             NaN  \n",
       "4                             NaN  "
      ]
     },
     "execution_count": 4,
     "metadata": {},
     "output_type": "execute_result"
    }
   ],
   "source": [
    "df = pd.read_sql_query(sqlqueries.query_b, engine)\n",
    "\n",
    "df.head()"
   ]
  },
  {
   "cell_type": "code",
   "execution_count": 5,
   "metadata": {},
   "outputs": [
    {
     "data": {
      "text/html": [
       "<div>\n",
       "<style scoped>\n",
       "    .dataframe tbody tr th:only-of-type {\n",
       "        vertical-align: middle;\n",
       "    }\n",
       "\n",
       "    .dataframe tbody tr th {\n",
       "        vertical-align: top;\n",
       "    }\n",
       "\n",
       "    .dataframe thead th {\n",
       "        text-align: right;\n",
       "    }\n",
       "</style>\n",
       "<table border=\"1\" class=\"dataframe\">\n",
       "  <thead>\n",
       "    <tr style=\"text-align: right;\">\n",
       "      <th></th>\n",
       "      <th>SQUARE_FT</th>\n",
       "      <th>UNITS_IN_BUILDING</th>\n",
       "      <th>SALE_PRICE</th>\n",
       "      <th>square_ft_per_unit</th>\n",
       "      <th>price_per_unit</th>\n",
       "    </tr>\n",
       "  </thead>\n",
       "  <tbody>\n",
       "    <tr>\n",
       "      <th>0</th>\n",
       "      <td>1633.0</td>\n",
       "      <td>5</td>\n",
       "      <td>6625000.0</td>\n",
       "      <td>326.600000</td>\n",
       "      <td>1.325000e+06</td>\n",
       "    </tr>\n",
       "    <tr>\n",
       "      <th>1</th>\n",
       "      <td>4616.0</td>\n",
       "      <td>31</td>\n",
       "      <td>NaN</td>\n",
       "      <td>148.903226</td>\n",
       "      <td>NaN</td>\n",
       "    </tr>\n",
       "    <tr>\n",
       "      <th>2</th>\n",
       "      <td>2212.0</td>\n",
       "      <td>17</td>\n",
       "      <td>NaN</td>\n",
       "      <td>130.117647</td>\n",
       "      <td>NaN</td>\n",
       "    </tr>\n",
       "    <tr>\n",
       "      <th>3</th>\n",
       "      <td>2272.0</td>\n",
       "      <td>10</td>\n",
       "      <td>3936272.0</td>\n",
       "      <td>227.200000</td>\n",
       "      <td>3.936272e+05</td>\n",
       "    </tr>\n",
       "    <tr>\n",
       "      <th>4</th>\n",
       "      <td>2369.0</td>\n",
       "      <td>6</td>\n",
       "      <td>8000000.0</td>\n",
       "      <td>394.833333</td>\n",
       "      <td>1.333333e+06</td>\n",
       "    </tr>\n",
       "  </tbody>\n",
       "</table>\n",
       "</div>"
      ],
      "text/plain": [
       "   SQUARE_FT  UNITS_IN_BUILDING  SALE_PRICE  square_ft_per_unit  \\\n",
       "0     1633.0                  5   6625000.0          326.600000   \n",
       "1     4616.0                 31         NaN          148.903226   \n",
       "2     2212.0                 17         NaN          130.117647   \n",
       "3     2272.0                 10   3936272.0          227.200000   \n",
       "4     2369.0                  6   8000000.0          394.833333   \n",
       "\n",
       "   price_per_unit  \n",
       "0    1.325000e+06  \n",
       "1             NaN  \n",
       "2             NaN  \n",
       "3    3.936272e+05  \n",
       "4    1.333333e+06  "
      ]
     },
     "execution_count": 5,
     "metadata": {},
     "output_type": "execute_result"
    }
   ],
   "source": [
    "df = pd.read_sql_query(sqlqueries.query_c, engine)\n",
    "\n",
    "df.head()"
   ]
  },
  {
   "cell_type": "code",
   "execution_count": null,
   "metadata": {},
   "outputs": [],
   "source": []
  }
 ],
 "metadata": {
  "kernelspec": {
   "display_name": ".exp_venv",
   "language": "python",
   "name": "python3"
  },
  "language_info": {
   "codemirror_mode": {
    "name": "ipython",
    "version": 3
   },
   "file_extension": ".py",
   "mimetype": "text/x-python",
   "name": "python",
   "nbconvert_exporter": "python",
   "pygments_lexer": "ipython3",
   "version": "3.11.3"
  }
 },
 "nbformat": 4,
 "nbformat_minor": 2
}
