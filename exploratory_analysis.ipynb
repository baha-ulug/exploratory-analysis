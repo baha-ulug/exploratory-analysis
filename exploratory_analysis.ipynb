{
 "cells": [
  {
   "cell_type": "code",
   "execution_count": 1,
   "metadata": {},
   "outputs": [
    {
     "name": "stderr",
     "output_type": "stream",
     "text": [
      "C:\\Users\\baha.ulug\\AppData\\Local\\Temp\\ipykernel_28060\\1994629838.py:1: DeprecationWarning: \n",
      "Pyarrow will become a required dependency of pandas in the next major release of pandas (pandas 3.0),\n",
      "(to allow more performant data types, such as the Arrow string type, and better interoperability with other libraries)\n",
      "but was not found to be installed on your system.\n",
      "If this would cause problems for you,\n",
      "please provide us feedback at https://github.com/pandas-dev/pandas/issues/54466\n",
      "        \n",
      "  import pandas as pd\n"
     ]
    }
   ],
   "source": [
    "import pandas as pd\n",
    "import numpy as np\n",
    "\n",
    "import constants as cons\n",
    "\n",
    "import matplotlib.pyplot as plt\n",
    "import matplotlib.ticker as ticker\n",
    "import plotly.graph_objs as go\n",
    "import plotly.offline as py\n",
    "import seaborn as sns\n",
    "\n",
    "from sklearn.linear_model import LinearRegression\n",
    "from sklearn.ensemble import RandomForestRegressor\n",
    "import lightgbm\n",
    "\n",
    "from sklearn.model_selection import train_test_split\n",
    "from sklearn.metrics import mean_squared_error,r2_score, mean_absolute_error\n",
    "from sklearn.preprocessing import StandardScaler\n",
    "from sklearn.model_selection import GridSearchCV\n",
    "\n",
    "import warnings\n",
    "warnings.filterwarnings('ignore')"
   ]
  },
  {
   "cell_type": "code",
   "execution_count": 2,
   "metadata": {},
   "outputs": [],
   "source": [
    "%matplotlib inline\n",
    "sns.set(style='white', context='notebook', palette='deep') \n",
    "\n",
    "import matplotlib.style as style\n",
    "style.use('fivethirtyeight')\n",
    "import time"
   ]
  },
  {
   "cell_type": "code",
   "execution_count": 3,
   "metadata": {},
   "outputs": [
    {
     "data": {
      "text/html": [
       "<div>\n",
       "<style scoped>\n",
       "    .dataframe tbody tr th:only-of-type {\n",
       "        vertical-align: middle;\n",
       "    }\n",
       "\n",
       "    .dataframe tbody tr th {\n",
       "        vertical-align: top;\n",
       "    }\n",
       "\n",
       "    .dataframe thead th {\n",
       "        text-align: right;\n",
       "    }\n",
       "</style>\n",
       "<table border=\"1\" class=\"dataframe\">\n",
       "  <thead>\n",
       "    <tr style=\"text-align: right;\">\n",
       "      <th></th>\n",
       "      <th>BOROUGH</th>\n",
       "      <th>NEIGHBORHOOD</th>\n",
       "      <th>BUILDING CLASS CATEGORY</th>\n",
       "      <th>TAX CLASS AT PRESENT</th>\n",
       "      <th>BLOCK</th>\n",
       "      <th>LOT</th>\n",
       "      <th>EASE-MENT</th>\n",
       "      <th>BUILDING CLASS AT PRESENT</th>\n",
       "      <th>ADDRESS</th>\n",
       "      <th>APARTMENT NUMBER</th>\n",
       "      <th>...</th>\n",
       "      <th>RESIDENTIAL UNITS</th>\n",
       "      <th>COMMERCIAL UNITS</th>\n",
       "      <th>TOTAL UNITS</th>\n",
       "      <th>LAND SQUARE FEET</th>\n",
       "      <th>GROSS SQUARE FEET</th>\n",
       "      <th>YEAR BUILT</th>\n",
       "      <th>TAX CLASS AT TIME OF SALE</th>\n",
       "      <th>BUILDING CLASS AT TIME OF SALE</th>\n",
       "      <th>SALE PRICE</th>\n",
       "      <th>SALE DATE</th>\n",
       "    </tr>\n",
       "  </thead>\n",
       "  <tbody>\n",
       "    <tr>\n",
       "      <th>4</th>\n",
       "      <td>1</td>\n",
       "      <td>ALPHABET CITY</td>\n",
       "      <td>07 RENTALS - WALKUP APARTMENTS</td>\n",
       "      <td>2A</td>\n",
       "      <td>392</td>\n",
       "      <td>6</td>\n",
       "      <td></td>\n",
       "      <td>C2</td>\n",
       "      <td>153 AVENUE B</td>\n",
       "      <td></td>\n",
       "      <td>...</td>\n",
       "      <td>5</td>\n",
       "      <td>0</td>\n",
       "      <td>5</td>\n",
       "      <td>1633</td>\n",
       "      <td>6440</td>\n",
       "      <td>1900</td>\n",
       "      <td>2</td>\n",
       "      <td>C2</td>\n",
       "      <td>6625000</td>\n",
       "      <td>2017-07-19 00:00:00</td>\n",
       "    </tr>\n",
       "    <tr>\n",
       "      <th>5</th>\n",
       "      <td>1</td>\n",
       "      <td>ALPHABET CITY</td>\n",
       "      <td>07 RENTALS - WALKUP APARTMENTS</td>\n",
       "      <td>2</td>\n",
       "      <td>399</td>\n",
       "      <td>26</td>\n",
       "      <td></td>\n",
       "      <td>C7</td>\n",
       "      <td>234 EAST 4TH   STREET</td>\n",
       "      <td></td>\n",
       "      <td>...</td>\n",
       "      <td>28</td>\n",
       "      <td>3</td>\n",
       "      <td>31</td>\n",
       "      <td>4616</td>\n",
       "      <td>18690</td>\n",
       "      <td>1900</td>\n",
       "      <td>2</td>\n",
       "      <td>C7</td>\n",
       "      <td>-</td>\n",
       "      <td>2016-12-14 00:00:00</td>\n",
       "    </tr>\n",
       "    <tr>\n",
       "      <th>6</th>\n",
       "      <td>1</td>\n",
       "      <td>ALPHABET CITY</td>\n",
       "      <td>07 RENTALS - WALKUP APARTMENTS</td>\n",
       "      <td>2</td>\n",
       "      <td>399</td>\n",
       "      <td>39</td>\n",
       "      <td></td>\n",
       "      <td>C7</td>\n",
       "      <td>197 EAST 3RD   STREET</td>\n",
       "      <td></td>\n",
       "      <td>...</td>\n",
       "      <td>16</td>\n",
       "      <td>1</td>\n",
       "      <td>17</td>\n",
       "      <td>2212</td>\n",
       "      <td>7803</td>\n",
       "      <td>1900</td>\n",
       "      <td>2</td>\n",
       "      <td>C7</td>\n",
       "      <td>-</td>\n",
       "      <td>2016-12-09 00:00:00</td>\n",
       "    </tr>\n",
       "    <tr>\n",
       "      <th>7</th>\n",
       "      <td>1</td>\n",
       "      <td>ALPHABET CITY</td>\n",
       "      <td>07 RENTALS - WALKUP APARTMENTS</td>\n",
       "      <td>2B</td>\n",
       "      <td>402</td>\n",
       "      <td>21</td>\n",
       "      <td></td>\n",
       "      <td>C4</td>\n",
       "      <td>154 EAST 7TH STREET</td>\n",
       "      <td></td>\n",
       "      <td>...</td>\n",
       "      <td>10</td>\n",
       "      <td>0</td>\n",
       "      <td>10</td>\n",
       "      <td>2272</td>\n",
       "      <td>6794</td>\n",
       "      <td>1913</td>\n",
       "      <td>2</td>\n",
       "      <td>C4</td>\n",
       "      <td>3936272</td>\n",
       "      <td>2016-09-23 00:00:00</td>\n",
       "    </tr>\n",
       "    <tr>\n",
       "      <th>8</th>\n",
       "      <td>1</td>\n",
       "      <td>ALPHABET CITY</td>\n",
       "      <td>07 RENTALS - WALKUP APARTMENTS</td>\n",
       "      <td>2A</td>\n",
       "      <td>404</td>\n",
       "      <td>55</td>\n",
       "      <td></td>\n",
       "      <td>C2</td>\n",
       "      <td>301 EAST 10TH   STREET</td>\n",
       "      <td></td>\n",
       "      <td>...</td>\n",
       "      <td>6</td>\n",
       "      <td>0</td>\n",
       "      <td>6</td>\n",
       "      <td>2369</td>\n",
       "      <td>4615</td>\n",
       "      <td>1900</td>\n",
       "      <td>2</td>\n",
       "      <td>C2</td>\n",
       "      <td>8000000</td>\n",
       "      <td>2016-11-17 00:00:00</td>\n",
       "    </tr>\n",
       "  </tbody>\n",
       "</table>\n",
       "<p>5 rows × 21 columns</p>\n",
       "</div>"
      ],
      "text/plain": [
       "   BOROUGH   NEIGHBORHOOD                      BUILDING CLASS CATEGORY  \\\n",
       "4        1  ALPHABET CITY  07 RENTALS - WALKUP APARTMENTS                \n",
       "5        1  ALPHABET CITY  07 RENTALS - WALKUP APARTMENTS                \n",
       "6        1  ALPHABET CITY  07 RENTALS - WALKUP APARTMENTS                \n",
       "7        1  ALPHABET CITY  07 RENTALS - WALKUP APARTMENTS                \n",
       "8        1  ALPHABET CITY  07 RENTALS - WALKUP APARTMENTS                \n",
       "\n",
       "  TAX CLASS AT PRESENT  BLOCK  LOT EASE-MENT BUILDING CLASS AT PRESENT  \\\n",
       "4                   2A    392    6                                  C2   \n",
       "5                    2    399   26                                  C7   \n",
       "6                    2    399   39                                  C7   \n",
       "7                   2B    402   21                                  C4   \n",
       "8                   2A    404   55                                  C2   \n",
       "\n",
       "                  ADDRESS APARTMENT NUMBER  ...  RESIDENTIAL UNITS  \\\n",
       "4            153 AVENUE B                   ...                  5   \n",
       "5   234 EAST 4TH   STREET                   ...                 28   \n",
       "6   197 EAST 3RD   STREET                   ...                 16   \n",
       "7     154 EAST 7TH STREET                   ...                 10   \n",
       "8  301 EAST 10TH   STREET                   ...                  6   \n",
       "\n",
       "   COMMERCIAL UNITS  TOTAL UNITS  LAND SQUARE FEET GROSS SQUARE FEET  \\\n",
       "4                 0            5              1633              6440   \n",
       "5                 3           31              4616             18690   \n",
       "6                 1           17              2212              7803   \n",
       "7                 0           10              2272              6794   \n",
       "8                 0            6              2369              4615   \n",
       "\n",
       "  YEAR BUILT  TAX CLASS AT TIME OF SALE  BUILDING CLASS AT TIME OF SALE  \\\n",
       "4       1900                          2                              C2   \n",
       "5       1900                          2                              C7   \n",
       "6       1900                          2                              C7   \n",
       "7       1913                          2                              C4   \n",
       "8       1900                          2                              C2   \n",
       "\n",
       "  SALE PRICE            SALE DATE  \n",
       "4    6625000  2017-07-19 00:00:00  \n",
       "5        -    2016-12-14 00:00:00  \n",
       "6        -    2016-12-09 00:00:00  \n",
       "7    3936272  2016-09-23 00:00:00  \n",
       "8    8000000  2016-11-17 00:00:00  \n",
       "\n",
       "[5 rows x 21 columns]"
      ]
     },
     "execution_count": 3,
     "metadata": {},
     "output_type": "execute_result"
    }
   ],
   "source": [
    "df = pd.read_csv(\"data/nyc-rolling-sales.csv\", index_col=0)\n",
    "df.head()"
   ]
  },
  {
   "cell_type": "markdown",
   "metadata": {},
   "source": [
    "BOROUGH: \n",
    "A digit code for the borough the property is located in.\n",
    "\n",
    "- Manhattan = 1\n",
    "\n",
    "- Bronx = 2\n",
    "\n",
    "- Brooklyn = 3\n",
    "\n",
    "- Queens = 4\n",
    "\n",
    "- Staten Island = 5\n",
    "\n",
    "BLOCK; LOT: \n",
    "\n",
    "- The combination of borough, block, and lot forms a unique key for property in New York City.\n",
    "\n",
    "\n",
    "BUILDING CLASS AT PRESENT and BUILDING CLASS AT TIME OF SALE: \n",
    "\n",
    "- The type of building at various points in time.\n",
    "\n",
    "\n",
    "** Note : 0 dollar sales are actually transfers of ownership between parties."
   ]
  },
  {
   "cell_type": "code",
   "execution_count": 4,
   "metadata": {},
   "outputs": [],
   "source": [
    "\n",
    "df_raw = df.copy()"
   ]
  },
  {
   "cell_type": "code",
   "execution_count": 5,
   "metadata": {},
   "outputs": [],
   "source": [
    "###################################### EXPLORE ######################################"
   ]
  },
  {
   "cell_type": "code",
   "execution_count": 6,
   "metadata": {},
   "outputs": [
    {
     "data": {
      "text/html": [
       "<div>\n",
       "<style scoped>\n",
       "    .dataframe tbody tr th:only-of-type {\n",
       "        vertical-align: middle;\n",
       "    }\n",
       "\n",
       "    .dataframe tbody tr th {\n",
       "        vertical-align: top;\n",
       "    }\n",
       "\n",
       "    .dataframe thead th {\n",
       "        text-align: right;\n",
       "    }\n",
       "</style>\n",
       "<table border=\"1\" class=\"dataframe\">\n",
       "  <thead>\n",
       "    <tr style=\"text-align: right;\">\n",
       "      <th></th>\n",
       "      <th>BOROUGH</th>\n",
       "      <th>NEIGHBORHOOD</th>\n",
       "      <th>BUILDING CLASS CATEGORY</th>\n",
       "      <th>TAX CLASS AT PRESENT</th>\n",
       "      <th>BLOCK</th>\n",
       "      <th>LOT</th>\n",
       "      <th>EASE-MENT</th>\n",
       "      <th>BUILDING CLASS AT PRESENT</th>\n",
       "      <th>ADDRESS</th>\n",
       "      <th>APARTMENT NUMBER</th>\n",
       "      <th>...</th>\n",
       "      <th>RESIDENTIAL UNITS</th>\n",
       "      <th>COMMERCIAL UNITS</th>\n",
       "      <th>TOTAL UNITS</th>\n",
       "      <th>LAND SQUARE FEET</th>\n",
       "      <th>GROSS SQUARE FEET</th>\n",
       "      <th>YEAR BUILT</th>\n",
       "      <th>TAX CLASS AT TIME OF SALE</th>\n",
       "      <th>BUILDING CLASS AT TIME OF SALE</th>\n",
       "      <th>SALE PRICE</th>\n",
       "      <th>SALE DATE</th>\n",
       "    </tr>\n",
       "  </thead>\n",
       "  <tbody>\n",
       "    <tr>\n",
       "      <th>4</th>\n",
       "      <td>1</td>\n",
       "      <td>ALPHABET CITY</td>\n",
       "      <td>07 RENTALS - WALKUP APARTMENTS</td>\n",
       "      <td>2A</td>\n",
       "      <td>392</td>\n",
       "      <td>6</td>\n",
       "      <td></td>\n",
       "      <td>C2</td>\n",
       "      <td>153 AVENUE B</td>\n",
       "      <td></td>\n",
       "      <td>...</td>\n",
       "      <td>5</td>\n",
       "      <td>0</td>\n",
       "      <td>5</td>\n",
       "      <td>1633</td>\n",
       "      <td>6440</td>\n",
       "      <td>1900</td>\n",
       "      <td>2</td>\n",
       "      <td>C2</td>\n",
       "      <td>6625000</td>\n",
       "      <td>2017-07-19 00:00:00</td>\n",
       "    </tr>\n",
       "    <tr>\n",
       "      <th>5</th>\n",
       "      <td>1</td>\n",
       "      <td>ALPHABET CITY</td>\n",
       "      <td>07 RENTALS - WALKUP APARTMENTS</td>\n",
       "      <td>2</td>\n",
       "      <td>399</td>\n",
       "      <td>26</td>\n",
       "      <td></td>\n",
       "      <td>C7</td>\n",
       "      <td>234 EAST 4TH   STREET</td>\n",
       "      <td></td>\n",
       "      <td>...</td>\n",
       "      <td>28</td>\n",
       "      <td>3</td>\n",
       "      <td>31</td>\n",
       "      <td>4616</td>\n",
       "      <td>18690</td>\n",
       "      <td>1900</td>\n",
       "      <td>2</td>\n",
       "      <td>C7</td>\n",
       "      <td>-</td>\n",
       "      <td>2016-12-14 00:00:00</td>\n",
       "    </tr>\n",
       "    <tr>\n",
       "      <th>6</th>\n",
       "      <td>1</td>\n",
       "      <td>ALPHABET CITY</td>\n",
       "      <td>07 RENTALS - WALKUP APARTMENTS</td>\n",
       "      <td>2</td>\n",
       "      <td>399</td>\n",
       "      <td>39</td>\n",
       "      <td></td>\n",
       "      <td>C7</td>\n",
       "      <td>197 EAST 3RD   STREET</td>\n",
       "      <td></td>\n",
       "      <td>...</td>\n",
       "      <td>16</td>\n",
       "      <td>1</td>\n",
       "      <td>17</td>\n",
       "      <td>2212</td>\n",
       "      <td>7803</td>\n",
       "      <td>1900</td>\n",
       "      <td>2</td>\n",
       "      <td>C7</td>\n",
       "      <td>-</td>\n",
       "      <td>2016-12-09 00:00:00</td>\n",
       "    </tr>\n",
       "    <tr>\n",
       "      <th>7</th>\n",
       "      <td>1</td>\n",
       "      <td>ALPHABET CITY</td>\n",
       "      <td>07 RENTALS - WALKUP APARTMENTS</td>\n",
       "      <td>2B</td>\n",
       "      <td>402</td>\n",
       "      <td>21</td>\n",
       "      <td></td>\n",
       "      <td>C4</td>\n",
       "      <td>154 EAST 7TH STREET</td>\n",
       "      <td></td>\n",
       "      <td>...</td>\n",
       "      <td>10</td>\n",
       "      <td>0</td>\n",
       "      <td>10</td>\n",
       "      <td>2272</td>\n",
       "      <td>6794</td>\n",
       "      <td>1913</td>\n",
       "      <td>2</td>\n",
       "      <td>C4</td>\n",
       "      <td>3936272</td>\n",
       "      <td>2016-09-23 00:00:00</td>\n",
       "    </tr>\n",
       "    <tr>\n",
       "      <th>8</th>\n",
       "      <td>1</td>\n",
       "      <td>ALPHABET CITY</td>\n",
       "      <td>07 RENTALS - WALKUP APARTMENTS</td>\n",
       "      <td>2A</td>\n",
       "      <td>404</td>\n",
       "      <td>55</td>\n",
       "      <td></td>\n",
       "      <td>C2</td>\n",
       "      <td>301 EAST 10TH   STREET</td>\n",
       "      <td></td>\n",
       "      <td>...</td>\n",
       "      <td>6</td>\n",
       "      <td>0</td>\n",
       "      <td>6</td>\n",
       "      <td>2369</td>\n",
       "      <td>4615</td>\n",
       "      <td>1900</td>\n",
       "      <td>2</td>\n",
       "      <td>C2</td>\n",
       "      <td>8000000</td>\n",
       "      <td>2016-11-17 00:00:00</td>\n",
       "    </tr>\n",
       "  </tbody>\n",
       "</table>\n",
       "<p>5 rows × 21 columns</p>\n",
       "</div>"
      ],
      "text/plain": [
       "   BOROUGH   NEIGHBORHOOD                      BUILDING CLASS CATEGORY  \\\n",
       "4        1  ALPHABET CITY  07 RENTALS - WALKUP APARTMENTS                \n",
       "5        1  ALPHABET CITY  07 RENTALS - WALKUP APARTMENTS                \n",
       "6        1  ALPHABET CITY  07 RENTALS - WALKUP APARTMENTS                \n",
       "7        1  ALPHABET CITY  07 RENTALS - WALKUP APARTMENTS                \n",
       "8        1  ALPHABET CITY  07 RENTALS - WALKUP APARTMENTS                \n",
       "\n",
       "  TAX CLASS AT PRESENT  BLOCK  LOT EASE-MENT BUILDING CLASS AT PRESENT  \\\n",
       "4                   2A    392    6                                  C2   \n",
       "5                    2    399   26                                  C7   \n",
       "6                    2    399   39                                  C7   \n",
       "7                   2B    402   21                                  C4   \n",
       "8                   2A    404   55                                  C2   \n",
       "\n",
       "                  ADDRESS APARTMENT NUMBER  ...  RESIDENTIAL UNITS  \\\n",
       "4            153 AVENUE B                   ...                  5   \n",
       "5   234 EAST 4TH   STREET                   ...                 28   \n",
       "6   197 EAST 3RD   STREET                   ...                 16   \n",
       "7     154 EAST 7TH STREET                   ...                 10   \n",
       "8  301 EAST 10TH   STREET                   ...                  6   \n",
       "\n",
       "   COMMERCIAL UNITS  TOTAL UNITS  LAND SQUARE FEET GROSS SQUARE FEET  \\\n",
       "4                 0            5              1633              6440   \n",
       "5                 3           31              4616             18690   \n",
       "6                 1           17              2212              7803   \n",
       "7                 0           10              2272              6794   \n",
       "8                 0            6              2369              4615   \n",
       "\n",
       "  YEAR BUILT  TAX CLASS AT TIME OF SALE  BUILDING CLASS AT TIME OF SALE  \\\n",
       "4       1900                          2                              C2   \n",
       "5       1900                          2                              C7   \n",
       "6       1900                          2                              C7   \n",
       "7       1913                          2                              C4   \n",
       "8       1900                          2                              C2   \n",
       "\n",
       "  SALE PRICE            SALE DATE  \n",
       "4    6625000  2017-07-19 00:00:00  \n",
       "5        -    2016-12-14 00:00:00  \n",
       "6        -    2016-12-09 00:00:00  \n",
       "7    3936272  2016-09-23 00:00:00  \n",
       "8    8000000  2016-11-17 00:00:00  \n",
       "\n",
       "[5 rows x 21 columns]"
      ]
     },
     "execution_count": 6,
     "metadata": {},
     "output_type": "execute_result"
    }
   ],
   "source": [
    "df.head()"
   ]
  },
  {
   "cell_type": "code",
   "execution_count": 7,
   "metadata": {},
   "outputs": [
    {
     "data": {
      "text/plain": [
       "(84548, 21)"
      ]
     },
     "execution_count": 7,
     "metadata": {},
     "output_type": "execute_result"
    }
   ],
   "source": [
    "df.shape"
   ]
  },
  {
   "cell_type": "code",
   "execution_count": 8,
   "metadata": {},
   "outputs": [
    {
     "name": "stdout",
     "output_type": "stream",
     "text": [
      "<class 'pandas.core.frame.DataFrame'>\n",
      "Index: 84548 entries, 4 to 8413\n",
      "Data columns (total 21 columns):\n",
      " #   Column                          Non-Null Count  Dtype \n",
      "---  ------                          --------------  ----- \n",
      " 0   BOROUGH                         84548 non-null  int64 \n",
      " 1   NEIGHBORHOOD                    84548 non-null  object\n",
      " 2   BUILDING CLASS CATEGORY         84548 non-null  object\n",
      " 3   TAX CLASS AT PRESENT            84548 non-null  object\n",
      " 4   BLOCK                           84548 non-null  int64 \n",
      " 5   LOT                             84548 non-null  int64 \n",
      " 6   EASE-MENT                       84548 non-null  object\n",
      " 7   BUILDING CLASS AT PRESENT       84548 non-null  object\n",
      " 8   ADDRESS                         84548 non-null  object\n",
      " 9   APARTMENT NUMBER                84548 non-null  object\n",
      " 10  ZIP CODE                        84548 non-null  int64 \n",
      " 11  RESIDENTIAL UNITS               84548 non-null  int64 \n",
      " 12  COMMERCIAL UNITS                84548 non-null  int64 \n",
      " 13  TOTAL UNITS                     84548 non-null  int64 \n",
      " 14  LAND SQUARE FEET                84548 non-null  object\n",
      " 15  GROSS SQUARE FEET               84548 non-null  object\n",
      " 16  YEAR BUILT                      84548 non-null  int64 \n",
      " 17  TAX CLASS AT TIME OF SALE       84548 non-null  int64 \n",
      " 18  BUILDING CLASS AT TIME OF SALE  84548 non-null  object\n",
      " 19  SALE PRICE                      84548 non-null  object\n",
      " 20  SALE DATE                       84548 non-null  object\n",
      "dtypes: int64(9), object(12)\n",
      "memory usage: 14.2+ MB\n"
     ]
    }
   ],
   "source": [
    "df.info()"
   ]
  },
  {
   "cell_type": "code",
   "execution_count": 9,
   "metadata": {},
   "outputs": [],
   "source": [
    "###################################### FEATURE ENGINEERING ######################################"
   ]
  },
  {
   "cell_type": "code",
   "execution_count": 10,
   "metadata": {},
   "outputs": [],
   "source": [
    "# First, let's convert few columns which are categorical \n",
    "# into integer values, so that it is easy for machine to handle values.\n",
    "\n",
    "def sale(string):\n",
    "    if ('-' in string):\n",
    "        return np.NaN\n",
    "    else:\n",
    "        return int(string)\n",
    "    \n",
    "def year_built(string):\n",
    "    if string==0:\n",
    "        return np.NaN\n",
    "    elif ('-' in string):\n",
    "        return np.NaN\n",
    "    else:\n",
    "        return int(string)\n",
    "    \n",
    "df['SALE PRICE'] = df['SALE PRICE'].map(lambda x: sale(x))\n",
    "df['YEAR BUILT'] = df['YEAR BUILT'].map(lambda x: int(x))\n",
    "df['YEAR SOLD'] = df['SALE DATE'].map(lambda x: x[0:4])\n",
    "df['YEAR SOLD'] = df['YEAR SOLD'].map(lambda x: int(x))\n",
    "df['MONTH SOLD'] = df['SALE DATE'].map(lambda x: x[5:7])\n",
    "df['MONTH SOLD'] = df['MONTH SOLD'].map(lambda x: int(x))\n",
    "df['GROSS SQUARE FEET'] = df['GROSS SQUARE FEET'].map(lambda x: year_built(x))\n",
    "df['LAND SQUARE FEET'] = df['LAND SQUARE FEET'].map(lambda x: year_built(x))\n",
    "df['YEAR BUILT'][df['YEAR BUILT']==0]=np.NaN"
   ]
  },
  {
   "cell_type": "code",
   "execution_count": 11,
   "metadata": {},
   "outputs": [
    {
     "data": {
      "text/plain": [
       "<Axes: >"
      ]
     },
     "execution_count": 11,
     "metadata": {},
     "output_type": "execute_result"
    },
    {
     "data": {
      "image/png": "[encoded data removed]",
      "text/plain": [
       "<Figure size 640x480 with 1 Axes>"
      ]
     },
     "metadata": {},
     "output_type": "display_data"
    }
   ],
   "source": [
    "sns.heatmap(\n",
    "    df.isnull(), \n",
    "    yticklabels=False, \n",
    "    cbar=False, \n",
    "    cmap='viridis'\n",
    ")"
   ]
  },
  {
   "cell_type": "code",
   "execution_count": 12,
   "metadata": {},
   "outputs": [
    {
     "data": {
      "text/plain": [
       "Text(0.5, 1.0, 'Sales per Borough')"
      ]
     },
     "execution_count": 12,
     "metadata": {},
     "output_type": "execute_result"
    },
    {
     "data": {
      "image/png": "[encoded data removed]",
      "text/plain": [
       "<Figure size 640x480 with 1 Axes>"
      ]
     },
     "metadata": {},
     "output_type": "display_data"
    }
   ],
   "source": [
    "sns.countplot(x='BOROUGH', data=df, palette='Set2')\n",
    "plt.title('Sales per Borough')\n",
    "\n",
    "# Maximum properties are sold in Queens! followed by Staten Island!"
   ]
  },
  {
   "cell_type": "code",
   "execution_count": 13,
   "metadata": {},
   "outputs": [
    {
     "data": {
      "text/plain": [
       "Text(0.5, 1.0, 'Sales per Borough Residential')"
      ]
     },
     "execution_count": 13,
     "metadata": {},
     "output_type": "execute_result"
    },
    {
     "data": {
      "image/png": "[encoded data removed]",
      "text/plain": [
       "<Figure size 640x480 with 1 Axes>"
      ]
     },
     "metadata": {},
     "output_type": "display_data"
    }
   ],
   "source": [
    "sns.barplot(y='RESIDENTIAL UNITS', x='BOROUGH',data=df, palette='coolwarm', ci=None)\n",
    "plt.title('Sales per Borough Residential')\n",
    "\n",
    "# Residential Units are mainly sold in ..."
   ]
  },
  {
   "cell_type": "code",
   "execution_count": 14,
   "metadata": {},
   "outputs": [
    {
     "data": {
      "text/plain": [
       "Text(0.5, 1.0, 'Sales per Borough Commercial')"
      ]
     },
     "execution_count": 14,
     "metadata": {},
     "output_type": "execute_result"
    },
    {
     "data": {
      "image/png": "[encoded data removed]",
      "text/plain": [
       "<Figure size 640x480 with 1 Axes>"
      ]
     },
     "metadata": {},
     "output_type": "display_data"
    }
   ],
   "source": [
    "sns.barplot(y='COMMERCIAL UNITS', x='BOROUGH',data=df, palette='coolwarm', ci=None)\n",
    "plt.title('Sales per Borough Commercial')"
   ]
  },
  {
   "cell_type": "code",
   "execution_count": 15,
   "metadata": {},
   "outputs": [
    {
     "data": {
      "text/plain": [
       "Text(0.5, 1.0, 'Sales Rate from 2016-2017')"
      ]
     },
     "execution_count": 15,
     "metadata": {},
     "output_type": "execute_result"
    },
    {
     "data": {
      "image/png": "[encoded data removed]",
      "text/plain": [
       "<Figure size 640x480 with 1 Axes>"
      ]
     },
     "metadata": {},
     "output_type": "display_data"
    }
   ],
   "source": [
    "sns.countplot(x='YEAR SOLD', data=df, palette='rainbow')\n",
    "plt.title('Sales Rate from 2016-2017')"
   ]
  },
  {
   "cell_type": "code",
   "execution_count": 16,
   "metadata": {},
   "outputs": [
    {
     "ename": "TypeError",
     "evalue": "agg function failed [how->mean,dtype->object]",
     "output_type": "error",
     "traceback": [
      "\u001b[1;31m---------------------------------------------------------------------------\u001b[0m",
      "\u001b[1;31mTypeError\u001b[0m                                 Traceback (most recent call last)",
      "File \u001b[1;32mc:\\Users\\baha.ulug\\Desktop\\projects\\exploratory-analysis\\.exp_venv\\Lib\\site-packages\\pandas\\core\\groupby\\groupby.py:1942\u001b[0m, in \u001b[0;36mGroupBy._agg_py_fallback\u001b[1;34m(self, how, values, ndim, alt)\u001b[0m\n\u001b[0;32m   1941\u001b[0m \u001b[38;5;28;01mtry\u001b[39;00m:\n\u001b[1;32m-> 1942\u001b[0m     res_values \u001b[38;5;241m=\u001b[39m \u001b[38;5;28;43mself\u001b[39;49m\u001b[38;5;241;43m.\u001b[39;49m\u001b[43m_grouper\u001b[49m\u001b[38;5;241;43m.\u001b[39;49m\u001b[43magg_series\u001b[49m\u001b[43m(\u001b[49m\u001b[43mser\u001b[49m\u001b[43m,\u001b[49m\u001b[43m \u001b[49m\u001b[43malt\u001b[49m\u001b[43m,\u001b[49m\u001b[43m \u001b[49m\u001b[43mpreserve_dtype\u001b[49m\u001b[38;5;241;43m=\u001b[39;49m\u001b[38;5;28;43;01mTrue\u001b[39;49;00m\u001b[43m)\u001b[49m\n\u001b[0;32m   1943\u001b[0m \u001b[38;5;28;01mexcept\u001b[39;00m \u001b[38;5;167;01mException\u001b[39;00m \u001b[38;5;28;01mas\u001b[39;00m err:\n",
      "File \u001b[1;32mc:\\Users\\baha.ulug\\Desktop\\projects\\exploratory-analysis\\.exp_venv\\Lib\\site-packages\\pandas\\core\\groupby\\ops.py:863\u001b[0m, in \u001b[0;36mBaseGrouper.agg_series\u001b[1;34m(self, obj, func, preserve_dtype)\u001b[0m\n\u001b[0;32m    861\u001b[0m     preserve_dtype \u001b[38;5;241m=\u001b[39m \u001b[38;5;28;01mTrue\u001b[39;00m\n\u001b[1;32m--> 863\u001b[0m result \u001b[38;5;241m=\u001b[39m \u001b[38;5;28;43mself\u001b[39;49m\u001b[38;5;241;43m.\u001b[39;49m\u001b[43m_aggregate_series_pure_python\u001b[49m\u001b[43m(\u001b[49m\u001b[43mobj\u001b[49m\u001b[43m,\u001b[49m\u001b[43m \u001b[49m\u001b[43mfunc\u001b[49m\u001b[43m)\u001b[49m\n\u001b[0;32m    865\u001b[0m npvalues \u001b[38;5;241m=\u001b[39m lib\u001b[38;5;241m.\u001b[39mmaybe_convert_objects(result, try_float\u001b[38;5;241m=\u001b[39m\u001b[38;5;28;01mFalse\u001b[39;00m)\n",
      "File \u001b[1;32mc:\\Users\\baha.ulug\\Desktop\\projects\\exploratory-analysis\\.exp_venv\\Lib\\site-packages\\pandas\\core\\groupby\\ops.py:884\u001b[0m, in \u001b[0;36mBaseGrouper._aggregate_series_pure_python\u001b[1;34m(self, obj, func)\u001b[0m\n\u001b[0;32m    883\u001b[0m \u001b[38;5;28;01mfor\u001b[39;00m i, group \u001b[38;5;129;01min\u001b[39;00m \u001b[38;5;28menumerate\u001b[39m(splitter):\n\u001b[1;32m--> 884\u001b[0m     res \u001b[38;5;241m=\u001b[39m \u001b[43mfunc\u001b[49m\u001b[43m(\u001b[49m\u001b[43mgroup\u001b[49m\u001b[43m)\u001b[49m\n\u001b[0;32m    885\u001b[0m     res \u001b[38;5;241m=\u001b[39m extract_result(res)\n",
      "File \u001b[1;32mc:\\Users\\baha.ulug\\Desktop\\projects\\exploratory-analysis\\.exp_venv\\Lib\\site-packages\\pandas\\core\\groupby\\groupby.py:2454\u001b[0m, in \u001b[0;36mGroupBy.mean.<locals>.<lambda>\u001b[1;34m(x)\u001b[0m\n\u001b[0;32m   2451\u001b[0m \u001b[38;5;28;01melse\u001b[39;00m:\n\u001b[0;32m   2452\u001b[0m     result \u001b[38;5;241m=\u001b[39m \u001b[38;5;28mself\u001b[39m\u001b[38;5;241m.\u001b[39m_cython_agg_general(\n\u001b[0;32m   2453\u001b[0m         \u001b[38;5;124m\"\u001b[39m\u001b[38;5;124mmean\u001b[39m\u001b[38;5;124m\"\u001b[39m,\n\u001b[1;32m-> 2454\u001b[0m         alt\u001b[38;5;241m=\u001b[39m\u001b[38;5;28;01mlambda\u001b[39;00m x: \u001b[43mSeries\u001b[49m\u001b[43m(\u001b[49m\u001b[43mx\u001b[49m\u001b[43m,\u001b[49m\u001b[43m \u001b[49m\u001b[43mcopy\u001b[49m\u001b[38;5;241;43m=\u001b[39;49m\u001b[38;5;28;43;01mFalse\u001b[39;49;00m\u001b[43m)\u001b[49m\u001b[38;5;241;43m.\u001b[39;49m\u001b[43mmean\u001b[49m\u001b[43m(\u001b[49m\u001b[43mnumeric_only\u001b[49m\u001b[38;5;241;43m=\u001b[39;49m\u001b[43mnumeric_only\u001b[49m\u001b[43m)\u001b[49m,\n\u001b[0;32m   2455\u001b[0m         numeric_only\u001b[38;5;241m=\u001b[39mnumeric_only,\n\u001b[0;32m   2456\u001b[0m     )\n\u001b[0;32m   2457\u001b[0m     \u001b[38;5;28;01mreturn\u001b[39;00m result\u001b[38;5;241m.\u001b[39m__finalize__(\u001b[38;5;28mself\u001b[39m\u001b[38;5;241m.\u001b[39mobj, method\u001b[38;5;241m=\u001b[39m\u001b[38;5;124m\"\u001b[39m\u001b[38;5;124mgroupby\u001b[39m\u001b[38;5;124m\"\u001b[39m)\n",
      "File \u001b[1;32mc:\\Users\\baha.ulug\\Desktop\\projects\\exploratory-analysis\\.exp_venv\\Lib\\site-packages\\pandas\\core\\series.py:6529\u001b[0m, in \u001b[0;36mSeries.mean\u001b[1;34m(self, axis, skipna, numeric_only, **kwargs)\u001b[0m\n\u001b[0;32m   6521\u001b[0m \u001b[38;5;129m@doc\u001b[39m(make_doc(\u001b[38;5;124m\"\u001b[39m\u001b[38;5;124mmean\u001b[39m\u001b[38;5;124m\"\u001b[39m, ndim\u001b[38;5;241m=\u001b[39m\u001b[38;5;241m1\u001b[39m))\n\u001b[0;32m   6522\u001b[0m \u001b[38;5;28;01mdef\u001b[39;00m \u001b[38;5;21mmean\u001b[39m(\n\u001b[0;32m   6523\u001b[0m     \u001b[38;5;28mself\u001b[39m,\n\u001b[1;32m   (...)\u001b[0m\n\u001b[0;32m   6527\u001b[0m     \u001b[38;5;241m*\u001b[39m\u001b[38;5;241m*\u001b[39mkwargs,\n\u001b[0;32m   6528\u001b[0m ):\n\u001b[1;32m-> 6529\u001b[0m     \u001b[38;5;28;01mreturn\u001b[39;00m \u001b[43mNDFrame\u001b[49m\u001b[38;5;241;43m.\u001b[39;49m\u001b[43mmean\u001b[49m\u001b[43m(\u001b[49m\u001b[38;5;28;43mself\u001b[39;49m\u001b[43m,\u001b[49m\u001b[43m \u001b[49m\u001b[43maxis\u001b[49m\u001b[43m,\u001b[49m\u001b[43m \u001b[49m\u001b[43mskipna\u001b[49m\u001b[43m,\u001b[49m\u001b[43m \u001b[49m\u001b[43mnumeric_only\u001b[49m\u001b[43m,\u001b[49m\u001b[43m \u001b[49m\u001b[38;5;241;43m*\u001b[39;49m\u001b[38;5;241;43m*\u001b[39;49m\u001b[43mkwargs\u001b[49m\u001b[43m)\u001b[49m\n",
      "File \u001b[1;32mc:\\Users\\baha.ulug\\Desktop\\projects\\exploratory-analysis\\.exp_venv\\Lib\\site-packages\\pandas\\core\\generic.py:12413\u001b[0m, in \u001b[0;36mNDFrame.mean\u001b[1;34m(self, axis, skipna, numeric_only, **kwargs)\u001b[0m\n\u001b[0;32m  12406\u001b[0m \u001b[38;5;28;01mdef\u001b[39;00m \u001b[38;5;21mmean\u001b[39m(\n\u001b[0;32m  12407\u001b[0m     \u001b[38;5;28mself\u001b[39m,\n\u001b[0;32m  12408\u001b[0m     axis: Axis \u001b[38;5;241m|\u001b[39m \u001b[38;5;28;01mNone\u001b[39;00m \u001b[38;5;241m=\u001b[39m \u001b[38;5;241m0\u001b[39m,\n\u001b[1;32m   (...)\u001b[0m\n\u001b[0;32m  12411\u001b[0m     \u001b[38;5;241m*\u001b[39m\u001b[38;5;241m*\u001b[39mkwargs,\n\u001b[0;32m  12412\u001b[0m ) \u001b[38;5;241m-\u001b[39m\u001b[38;5;241m>\u001b[39m Series \u001b[38;5;241m|\u001b[39m \u001b[38;5;28mfloat\u001b[39m:\n\u001b[1;32m> 12413\u001b[0m     \u001b[38;5;28;01mreturn\u001b[39;00m \u001b[38;5;28;43mself\u001b[39;49m\u001b[38;5;241;43m.\u001b[39;49m\u001b[43m_stat_function\u001b[49m\u001b[43m(\u001b[49m\n\u001b[0;32m  12414\u001b[0m \u001b[43m        \u001b[49m\u001b[38;5;124;43m\"\u001b[39;49m\u001b[38;5;124;43mmean\u001b[39;49m\u001b[38;5;124;43m\"\u001b[39;49m\u001b[43m,\u001b[49m\u001b[43m \u001b[49m\u001b[43mnanops\u001b[49m\u001b[38;5;241;43m.\u001b[39;49m\u001b[43mnanmean\u001b[49m\u001b[43m,\u001b[49m\u001b[43m \u001b[49m\u001b[43maxis\u001b[49m\u001b[43m,\u001b[49m\u001b[43m \u001b[49m\u001b[43mskipna\u001b[49m\u001b[43m,\u001b[49m\u001b[43m \u001b[49m\u001b[43mnumeric_only\u001b[49m\u001b[43m,\u001b[49m\u001b[43m \u001b[49m\u001b[38;5;241;43m*\u001b[39;49m\u001b[38;5;241;43m*\u001b[39;49m\u001b[43mkwargs\u001b[49m\n\u001b[0;32m  12415\u001b[0m \u001b[43m    \u001b[49m\u001b[43m)\u001b[49m\n",
      "File \u001b[1;32mc:\\Users\\baha.ulug\\Desktop\\projects\\exploratory-analysis\\.exp_venv\\Lib\\site-packages\\pandas\\core\\generic.py:12370\u001b[0m, in \u001b[0;36mNDFrame._stat_function\u001b[1;34m(self, name, func, axis, skipna, numeric_only, **kwargs)\u001b[0m\n\u001b[0;32m  12368\u001b[0m validate_bool_kwarg(skipna, \u001b[38;5;124m\"\u001b[39m\u001b[38;5;124mskipna\u001b[39m\u001b[38;5;124m\"\u001b[39m, none_allowed\u001b[38;5;241m=\u001b[39m\u001b[38;5;28;01mFalse\u001b[39;00m)\n\u001b[1;32m> 12370\u001b[0m \u001b[38;5;28;01mreturn\u001b[39;00m \u001b[38;5;28;43mself\u001b[39;49m\u001b[38;5;241;43m.\u001b[39;49m\u001b[43m_reduce\u001b[49m\u001b[43m(\u001b[49m\n\u001b[0;32m  12371\u001b[0m \u001b[43m    \u001b[49m\u001b[43mfunc\u001b[49m\u001b[43m,\u001b[49m\u001b[43m \u001b[49m\u001b[43mname\u001b[49m\u001b[38;5;241;43m=\u001b[39;49m\u001b[43mname\u001b[49m\u001b[43m,\u001b[49m\u001b[43m \u001b[49m\u001b[43maxis\u001b[49m\u001b[38;5;241;43m=\u001b[39;49m\u001b[43maxis\u001b[49m\u001b[43m,\u001b[49m\u001b[43m \u001b[49m\u001b[43mskipna\u001b[49m\u001b[38;5;241;43m=\u001b[39;49m\u001b[43mskipna\u001b[49m\u001b[43m,\u001b[49m\u001b[43m \u001b[49m\u001b[43mnumeric_only\u001b[49m\u001b[38;5;241;43m=\u001b[39;49m\u001b[43mnumeric_only\u001b[49m\n\u001b[0;32m  12372\u001b[0m \u001b[43m\u001b[49m\u001b[43m)\u001b[49m\n",
      "File \u001b[1;32mc:\\Users\\baha.ulug\\Desktop\\projects\\exploratory-analysis\\.exp_venv\\Lib\\site-packages\\pandas\\core\\series.py:6437\u001b[0m, in \u001b[0;36mSeries._reduce\u001b[1;34m(self, op, name, axis, skipna, numeric_only, filter_type, **kwds)\u001b[0m\n\u001b[0;32m   6433\u001b[0m     \u001b[38;5;28;01mraise\u001b[39;00m \u001b[38;5;167;01mTypeError\u001b[39;00m(\n\u001b[0;32m   6434\u001b[0m         \u001b[38;5;124mf\u001b[39m\u001b[38;5;124m\"\u001b[39m\u001b[38;5;124mSeries.\u001b[39m\u001b[38;5;132;01m{\u001b[39;00mname\u001b[38;5;132;01m}\u001b[39;00m\u001b[38;5;124m does not allow \u001b[39m\u001b[38;5;132;01m{\u001b[39;00mkwd_name\u001b[38;5;132;01m}\u001b[39;00m\u001b[38;5;124m=\u001b[39m\u001b[38;5;132;01m{\u001b[39;00mnumeric_only\u001b[38;5;132;01m}\u001b[39;00m\u001b[38;5;124m \u001b[39m\u001b[38;5;124m\"\u001b[39m\n\u001b[0;32m   6435\u001b[0m         \u001b[38;5;124m\"\u001b[39m\u001b[38;5;124mwith non-numeric dtypes.\u001b[39m\u001b[38;5;124m\"\u001b[39m\n\u001b[0;32m   6436\u001b[0m     )\n\u001b[1;32m-> 6437\u001b[0m \u001b[38;5;28;01mreturn\u001b[39;00m \u001b[43mop\u001b[49m\u001b[43m(\u001b[49m\u001b[43mdelegate\u001b[49m\u001b[43m,\u001b[49m\u001b[43m \u001b[49m\u001b[43mskipna\u001b[49m\u001b[38;5;241;43m=\u001b[39;49m\u001b[43mskipna\u001b[49m\u001b[43m,\u001b[49m\u001b[43m \u001b[49m\u001b[38;5;241;43m*\u001b[39;49m\u001b[38;5;241;43m*\u001b[39;49m\u001b[43mkwds\u001b[49m\u001b[43m)\u001b[49m\n",
      "File \u001b[1;32mc:\\Users\\baha.ulug\\Desktop\\projects\\exploratory-analysis\\.exp_venv\\Lib\\site-packages\\pandas\\core\\nanops.py:147\u001b[0m, in \u001b[0;36mbottleneck_switch.__call__.<locals>.f\u001b[1;34m(values, axis, skipna, **kwds)\u001b[0m\n\u001b[0;32m    146\u001b[0m \u001b[38;5;28;01melse\u001b[39;00m:\n\u001b[1;32m--> 147\u001b[0m     result \u001b[38;5;241m=\u001b[39m \u001b[43malt\u001b[49m\u001b[43m(\u001b[49m\u001b[43mvalues\u001b[49m\u001b[43m,\u001b[49m\u001b[43m \u001b[49m\u001b[43maxis\u001b[49m\u001b[38;5;241;43m=\u001b[39;49m\u001b[43maxis\u001b[49m\u001b[43m,\u001b[49m\u001b[43m \u001b[49m\u001b[43mskipna\u001b[49m\u001b[38;5;241;43m=\u001b[39;49m\u001b[43mskipna\u001b[49m\u001b[43m,\u001b[49m\u001b[43m \u001b[49m\u001b[38;5;241;43m*\u001b[39;49m\u001b[38;5;241;43m*\u001b[39;49m\u001b[43mkwds\u001b[49m\u001b[43m)\u001b[49m\n\u001b[0;32m    149\u001b[0m \u001b[38;5;28;01mreturn\u001b[39;00m result\n",
      "File \u001b[1;32mc:\\Users\\baha.ulug\\Desktop\\projects\\exploratory-analysis\\.exp_venv\\Lib\\site-packages\\pandas\\core\\nanops.py:404\u001b[0m, in \u001b[0;36m_datetimelike_compat.<locals>.new_func\u001b[1;34m(values, axis, skipna, mask, **kwargs)\u001b[0m\n\u001b[0;32m    402\u001b[0m     mask \u001b[38;5;241m=\u001b[39m isna(values)\n\u001b[1;32m--> 404\u001b[0m result \u001b[38;5;241m=\u001b[39m \u001b[43mfunc\u001b[49m\u001b[43m(\u001b[49m\u001b[43mvalues\u001b[49m\u001b[43m,\u001b[49m\u001b[43m \u001b[49m\u001b[43maxis\u001b[49m\u001b[38;5;241;43m=\u001b[39;49m\u001b[43maxis\u001b[49m\u001b[43m,\u001b[49m\u001b[43m \u001b[49m\u001b[43mskipna\u001b[49m\u001b[38;5;241;43m=\u001b[39;49m\u001b[43mskipna\u001b[49m\u001b[43m,\u001b[49m\u001b[43m \u001b[49m\u001b[43mmask\u001b[49m\u001b[38;5;241;43m=\u001b[39;49m\u001b[43mmask\u001b[49m\u001b[43m,\u001b[49m\u001b[43m \u001b[49m\u001b[38;5;241;43m*\u001b[39;49m\u001b[38;5;241;43m*\u001b[39;49m\u001b[43mkwargs\u001b[49m\u001b[43m)\u001b[49m\n\u001b[0;32m    406\u001b[0m \u001b[38;5;28;01mif\u001b[39;00m datetimelike:\n",
      "File \u001b[1;32mc:\\Users\\baha.ulug\\Desktop\\projects\\exploratory-analysis\\.exp_venv\\Lib\\site-packages\\pandas\\core\\nanops.py:720\u001b[0m, in \u001b[0;36mnanmean\u001b[1;34m(values, axis, skipna, mask)\u001b[0m\n\u001b[0;32m    719\u001b[0m the_sum \u001b[38;5;241m=\u001b[39m values\u001b[38;5;241m.\u001b[39msum(axis, dtype\u001b[38;5;241m=\u001b[39mdtype_sum)\n\u001b[1;32m--> 720\u001b[0m the_sum \u001b[38;5;241m=\u001b[39m \u001b[43m_ensure_numeric\u001b[49m\u001b[43m(\u001b[49m\u001b[43mthe_sum\u001b[49m\u001b[43m)\u001b[49m\n\u001b[0;32m    722\u001b[0m \u001b[38;5;28;01mif\u001b[39;00m axis \u001b[38;5;129;01mis\u001b[39;00m \u001b[38;5;129;01mnot\u001b[39;00m \u001b[38;5;28;01mNone\u001b[39;00m \u001b[38;5;129;01mand\u001b[39;00m \u001b[38;5;28mgetattr\u001b[39m(the_sum, \u001b[38;5;124m\"\u001b[39m\u001b[38;5;124mndim\u001b[39m\u001b[38;5;124m\"\u001b[39m, \u001b[38;5;28;01mFalse\u001b[39;00m):\n",
      "File \u001b[1;32mc:\\Users\\baha.ulug\\Desktop\\projects\\exploratory-analysis\\.exp_venv\\Lib\\site-packages\\pandas\\core\\nanops.py:1701\u001b[0m, in \u001b[0;36m_ensure_numeric\u001b[1;34m(x)\u001b[0m\n\u001b[0;32m   1699\u001b[0m \u001b[38;5;28;01mif\u001b[39;00m \u001b[38;5;28misinstance\u001b[39m(x, \u001b[38;5;28mstr\u001b[39m):\n\u001b[0;32m   1700\u001b[0m     \u001b[38;5;66;03m# GH#44008, GH#36703 avoid casting e.g. strings to numeric\u001b[39;00m\n\u001b[1;32m-> 1701\u001b[0m     \u001b[38;5;28;01mraise\u001b[39;00m \u001b[38;5;167;01mTypeError\u001b[39;00m(\u001b[38;5;124mf\u001b[39m\u001b[38;5;124m\"\u001b[39m\u001b[38;5;124mCould not convert string \u001b[39m\u001b[38;5;124m'\u001b[39m\u001b[38;5;132;01m{\u001b[39;00mx\u001b[38;5;132;01m}\u001b[39;00m\u001b[38;5;124m'\u001b[39m\u001b[38;5;124m to numeric\u001b[39m\u001b[38;5;124m\"\u001b[39m)\n\u001b[0;32m   1702\u001b[0m \u001b[38;5;28;01mtry\u001b[39;00m:\n",
      "\u001b[1;31mTypeError\u001b[0m: Could not convert string ' -   -  39362728000000319284016232000103500001450000 -  450000 -  475000420000410000335000240000069400028000000526250006200007626697728511034880 -   -   -  8000002295759 -  1300000 -  1680112130845117819371900000115000018000001385000215000012363001934675146118819574752250000149500026118114159551239288715782874552375 -  14784993300000805000735000810000 -   -  635000370000052625000 -   -  7425000160000005950000 -  29400000 -   -  34850004600000234197570000031000035450070500022000001525000289000670000699000180000 -  12375005925003110006100005900004419752820007100002820004550006225001085000440000620000640000108000065900050000013750008275005825007500007325005180001215000775000452000932500135000099500066186211369210116486231722608833210172611644787346867128734614452113715011828086712114975129347100603722601017268734686231655000849000 -  1115000267701284101207564289568218498207564530000460000605000 -  1090000945000905000900000160000024950001700000165000086750012750009390005450005275001970000615000675000227500020000002560000 -   -   -  2815000 -  3210237441050004650000 -   -   -   -  6315900687593779500005959512104907251343550410126700145637251094893715139625120181001588745016466145128293621690570013443650178099251347845034623250630000028000007990001040000 -   -  995000102000016500001700000 -  2900000287500065000001195000 -   -   -  4000000217500045000003000000 -  975000 -  14250002000000882000 -  1751390 -  1750000132500015250000900000250000350000033500004450000 -  15000001500000 -  1750000 -   -   -   -   -  27000003828219 -  990000200000021631002050000519307521892383864259137463843275623971175250744114764624276650417482516368364480300417482525000001629200463303844293871807393510397845312122749275350000011670000783500079875008335000205000275000017250004000000 -   -  8550002000000750000495000 -   -  1519999 -  49000001830000354000010150002250000 -   -   -  26150001675000168000026500002999000105818188250000400000013250000800000049181473680000410000036250001275000103746257500059000071250032000001300000545000600000580000900000576500 -  73500069800062000012000003755000 -  150000000 -  107500008818181 -   -   -  10500000 -  13972500092007576 -   -  6000000050350000 -   -  7100000 -   -   -  7214400 -   -   -   -   -  510000012250000 -   -   -   -   -   -   -   -   -   -   -   -   -  8275000 -   -  14400002600000 -  830000 -  127000012240001695000 -   -  25700001250000 -  150000 -   -  1900000093750001550000093000960000280000 -  17514251493862410000043064452043645 -   -   -  6914008450006000003890008700006500008600001750000 -  3500000 -  453121229783815091250457194228714654816322289183051930754398840314130155851013161666656771254043853532727536108657531125142162501997232227615600375324312658549375641287371817274841373283856626223753458123304221885877537675258655125380825565677123848985435811088587756418625416973344497524490482460758121383253054750340000021500002000000287500052500002945000260000033500002800000946973 -  2945000 -   -  2750000155000036823072835020521603339364324908960325000063500004625000565000046483355005150625728244958975055682922259110978315423896512251134482885311396706449353013983255510450614289224135766121505317016260815266500031500007893437 -   -  600000 -   -   -   -   -   -   -   -   -   -  10 -   -  1010 -  7000004950003450008500001125000335000320000710000350000517500490000899000103000038300048000049000015900003950007400001680000 -  23000002100000 -  106500011500001965000179600014990008590005970007360001321750739000778000103800076700011400009437501098000107600011500006790008830007920001462800960000704000780000984000112000011900007290009110001312000239500099900016520001255607 -  138000087700096600017490001265000 -  20200001 -  1220000870000 -  310000017500001700000 -   -   -   -  69604960500098500067000010 -  12099361237500860000500777000971000752000182500010070021090000998000 -  760000146400016500007560011185000920000106000034000087500089500067734101 -  53813941012326000 -  10025000 -  8300000619000860000640000675000682000 -  1535000185000087000014900003025000940000278500019012516500009700001047600 -  1070000890000 -  95200090800026275092500000 -   -  1195000 -  10500002521695 -   -   -  695000620000550000500000 -   -  627000 -  91000006000000 -   -   -   -   -   -  2200002200001586403500000950000117500011550001150000121100056000023750001120000735000187250017500002035000160000079000092500020000001735000173500048366878146000 -   -   -  108000000 -   -   -  56500000054000000 -   -   -   -   -  220000 -  128177800212500000139657500 -  16540319 -   -  84220929 -  5816666965779748213200 -   -   -  310000023911460318239161215500005310008290008750007600005950006210007750006250005800005950005468057750005980002750000700000685000630000700000749000860000 -  995000116500010 -  900000 -   -   -   -   -  1580000167500011150001150000192000020500005002075000182500021000002644370166000026500001350000166000033400002400000135000011500009250001615000 -  2850000360000965000550000575000 -  10780008000007600001973905735000 -  7400007350003000000 -   -   -   -  74000017200008750001590000960000133500092000011500002900000 -  1600000918000 -  1450000 -  8800007250007900007088001355000 -  11750006000005150005150001130000900000645000 -  916425 -   -   -  6750007350001095000 -  21973106490001001072002033450005110000055422441321942 -  1700000 -   -  10140008750009910008750005800001385000920000 -  838000 -   -  898500 -  7150008850008000002400000210000017200001800000295000072909284320000840000525000965000975000400000020600002100000144545271139000193000013950001875000132500062750072000057022005396725570000035000004725000137500015150002360000274927543275628095087138991151421623714066356387575218755702200195747514051851731025224160018328502189237185830667204501883762160323444548431398093772804873309312536573875352500024750002850000 -  7700007780008100008500001050000 -  11150001505000175000023650001999999314000 -  2250000 -   -   -   -  2675000 -   -  12800001300000 -  18328501614600 -  122190006625000 -   -  276200324528002375000 -   -  265000001159531 -   -  5100000 -   -  7350000 -  90000013600000870000013100000 -  118000008250009750008428005400006000007990005550008260005250007070008000002400000896000 -  71500064000011000001085000811000860000565000181000087500086000015400001495000147250066080006500001800000840000440000480000410000556000700000610000465000570000615000782571495000572396715000399000 -  525000 -  92500050700082000058200087900096500015750001440000815000132500013000009050001460000 -  69900055000063500012000006050005890006100004110001765094325000106800082500087500010900007500001090000599000420000489000 -  520000459250779000182500053200057654314225001375000690000560000 -   -   -   -  1152500 -   -  11980001350000410000 -   -   -   -  13000000168880032290001800000161500011100001750000 -  24500002995000284709015640143128332324283631682741578287322252930018552154923729951535356915992945 -  153500010750007700000638951870768377102293 -   -   -   -  3550002108485500044000043000015000000 -   -   -   -   -   -   -   -   -   -   -   -   -   -   -   -   -   -   -   -   -   -  9999999125000002065000011800000 -  72200000 -   -  8500000180000024200009650001110000927000230000013000007350007950001955000 -  325000010000000500000140000026000005045699750001065000510000587500 -  9750004990009370005350002450000 -  2540000705000785000509000 -  5350009990007990009950009240002375000187355010300003850005700005400006400009250003743018195000024004159000 -  240000023750002275000 -  185000012350001550000650000140000016375009000002250000590000629000245000014800005593501175000967000795000120500090000071000013000001090000810000 -  85500020250006090002490000 -  32500001765000 -  173750073000015250007750004700000210000029950001500000111600011000001185000119500062200015550001267000 -  400000740000675000425000 -  15875001300000945000570000105000015200001780000204000021523305335912800000955000 -  865000605000940000 -  1295000 -   -   -  925000 -   -  7200000 -  2575000170000084005622100000 -  51000001735000 -  138000015500003700000460000044735365 -   -   -   -   -   -   -   -   -   -   -   -   -   -   -   -   -   -   -   -   -   -   -   -   -   -   -   -   -   -   -   -   -   -   -   -   -   -   -   -   -   -   -   -   -   -   -   -   -   -   -   -   -   -   -   -   -   -   -   -   -   -   -   -   -   -   -   -   -   -   -   -   -   -   -   -   -  2665000 -   -   -   -   -  2900000 -  1630000 -  2300000300000080000003550000675000069750008300000805000083160009139000950000063270004825000 -  750019000001500065700022550007000007000001238000127500015500009800007990001850000800000131000012250001400000 -  26125009900001100000109000000 -  37810009300000 -   -  6000000032250000 -  6060000 -  13750001375000 -  68000008900000 -   -   -   -   -   -  1570000010900000010 -   -  1500000101425715000770800770800864800450000 -  1310000645000525000848000940000 -  12500006500007100001100000850002175000150000 -  5400006650006350008350009399406531544750001335000122988455000429000807000490000652250900000 -  1200000580000670000565000565000210000015150005450000 -  76250052150067800068000024500001265000 -   -  10490008950007050009200001195000998000220000021455001175000850000782500 -  1115000537000 -   -  24500001500000 -  1149500 -  9673371195000 -   -  222500019500002025000 -  38350002902012 -  18666003800000 -  25044282479623065564174898107293398716571565117488355152776135229925554043780514653300771835598167227615299576168521228416342684501054014486967260617027317870617783008329560366336416961637671559214764550000189000096000012728126500001220000825000 -  190000150000012900002982500 -  2111250 -  2275000 -   -  8800001850000827739 -  2650000 -  8450004295000 -  4850000 -   -   -  16500003200000 -  17750004309505600371209200086576812575386722995 -  5949125572765610589800241834374100000 -  2500000 -  142500061000008600000 -   -   -  14000000 -  12800001925000 -  810000790000780000 -   -   -  13750002750000122500014750005849006350006856750 -   -  12750000 -   -   -  2300000 -   -   -  1000000 -   -  28000001310000 -  2000000500000 -   -  2950000155000026850001980000325000022000002675000 -  1102500 -   -  6438317 -   -   -  21500001500000245000044330333000000 -   -   -  150600051286501900000 -  925000282000025250003760000157500020000 -   -   -  1365000 -  21000001193000 -  1625000740000067000002495000180000012440261800000018000000180000001800000018000000180000005020000502000050200005020000502000067500000270000 -  2950004600002380003250002800002500009340001100000315000550000530000790000660000675000385000375000275550156000450000387000445000200000355000240000457500405000415000 -  381000370000 -   -   -   -   -  874676132270673212197900077100021300001400000 -  119000010500001255000475000 -  670000176000 -  63500016750006100003800003200003400001630000598500679000985000550000900000 -  1695000735000 -  21250008090001350000107066659215166628807005566689906649176842641052870700556103056910131586638997097177789616964836995376934281001958692410684363694446810017690373680191710738705647686809731103109360057487970055669953772041169241096631910997101015195152533810799109993421117632118626170366047658010151959250009200009650002624000 -   -  5250009690001275000550000174000016350001615000121500082200073000012450008450002477874650008850009300005050008120008900003794665890004560004600004550004868004710005050004817755100004979991024000115000051500014050001150622 -  121496792400093494813950004700007850004600004455001100000 -  5990006100004560006850007050001100000120000068000072000060000056250049900096500056000061000062300027000000675000090955570 -  3538888 -   -   -   -   -   -  10 -   -   -  10 -  2250000 -   -   -  2100000 -  373 -  1212500014275000 -  150000001150000062500007750000106250001082500073000007525000880000010875000 -  53250001300000230000059250005375000 -  1900000 -   -   -  4373570342500034500003300000120000002300000915000092500008725000110500001102500009325000892500098392005925000 -  51750004500000882500010850000 -  5050000 -   -   -  55250001030000 -   -  3300000 -  5850000685000022500002450000167500022250003112400 -   -  43000007850000 -   -  8550000 -  9575000 -  7300000250000007200000 -   -   -  3600036000545000175000277105600000 -  390000 -  173394173394545000700000725000737000595383738231550875722957750000785000760000799000775000615000641497630000705000610000 -  958650850000645000102000053423329500010500001070000570000622500647500830000 -   -  9800008750009283955600371075000545000 -   -  6726800 -  2925000 -   -   -   -  789000 -   -  118750072500012500002550000 -   -  2500000 -  960000 -   -   -   -   -   -  13250000 -   -  950000 -  3395000 -  26000001150000 -  2650000 -   -  2075000240000014750002350000 -  21000004063 -   -   -  26500080000185000150000330000360000360000 -  41100340000675000405000484000481650665000 -   -  1090101800000022600001512500150000068000006800000145000001540000204000 -  20000340000 -  300000401000 -   -  307242 -   -  63600000 -   -   -   -   -   -   -   -   -   -   -  2850000 -  6900000129000001920000017700000 -   -  27500032300021000047000035000010500005100005300003890003800003900003950002400002330008500003650003250003290003890003515007600003764415457732640005600004163214750004850003140004715101062000 -  18270007950000 -  830000405000315000 -  370000124700000330000000530000018500000 -  4600000390000062000000087500790000555000 -  930000415000 -  4150001245000995000730000225000013950001310000 -   -   -   -  825000 -   -  1450000 -   -   -   -  46000015250001450000 -  9990001110000 -  1465000 -   -  7725641450000 -  1625000 -  80000026170009950008800001640000315000013950001160000106500012600001145000 -  2270000192000012250001932000168000024700001100000 -   -   -  2250000 -   -   -   -   -   -  13600001200000 -  835000827200 -  8350001775000890000845000850000 -  29250003016565485000483000800000 -  14900007100001350000174000000 -   -   -  15200000 -   -   -  29000001300000 -  2300000 -  10500000 -  3900000 -  290600011000000 -   -   -   -  7550000 -   -  5000050000595000 -   -   -  51000075500044500042500094900088800090500012000008200001550000594500655000750000 -  7500009300001225000 -  930000 -  486000875000705000 -  1060000812000 -  1225000 -  7475004870007050009750009000001075000 -  750000995000 -  920000675000634000795000649000171204690000 -  615000860000591500565000785000785000850000 -  785000690000 -  15000001100000650000819000489000860000879000562500 -   -   -   -  440000480000600000 -   -  1235000134000011300001250000120000012620001390000825000 -   -  5250000 -  9800000 -  6250005950009000000 -  36000001550000030750000 -  10600000 -  4750000011350000 -  21000004454843305373117000000 -  35700022500052600043500064500092500014000001200000158203920817992990163486000 -  999000 -   -  807000 -  1225000 -  8950001035000 -  7850008150008150001375000 -   -  17500007700007400008598159920001715000 -   -  8000005710001860000 -   -  815000685000117593882525250005702206720451100000707000609000925000 -   -  1025000820000 -   -  10375001785000200000092334340000 -  70000050500043500072100039500013000056000033250003000000 -  37000003057375 -   -  434000032500004222500240000031000002800000 -   -   -   -   -  167373215681391531482116180210483831941536186241429427611321343149072521150779171376822387494229042362271284253095114531466270301222411962946718967711211568421857298743329148328817956089387387660898635000329550 -  610000570000597402853600 -   -  30000006764375 -   -  1400000900000009000000062750000 -  84250000750000196533772350002270002950005200000 -   -   -  570000045000007250000 -   -  71000004625000 -   -   -   -  936000 -  325000897000445000545000695000555000510000730000600000420000 -  430000 -  640000661500687500675000585000 -   -  700000755438 -  49900043000053000013750005460006450004400004050004100006400009890007100006418756760007750005325004250006550005920005990005200004100005725001400000390000 -  1199000 -   -  66000050500038500045000044000021930623220002800003590003490002800005750003750006500005950003490008750002890005250005490002977903250003440003400004600002940003340003600003350003000003000009950003030005500006364063150002730004150004905004999998600001457831457834990006750001095000645000867500363000530000760000612700605858 -  7110006700005270006150004010002636404013873200005126403740003550001100000333000775000599000350000555000 -  335000755000795000675000674000350000830000490000 -  659000415000 -  145000012800006500001850000 -   -   -  620000330000875000 -  2600000162500053967550000022000046500051510013690002351250660000607000139125088800012250001425000585000805000750000131000020000004050001350000 -  79600053000014500005325005000000356025925000 -  6580001050000735000791000760000 -   -  6360001555125485000 -  10 -  1250000 -  890000975000 -   -  225000013000001067500204508 -   -  9950002275000 -  116000013400008250001350000725000995000243000022000009995007500001230000570000300000013350008753187600001675000998000349000415000 -  190000071500085500090000014000009500000949500022950001836000860000 -  8990008814122575000 -  23800003250000 -  21500007850001082500 -  790000570000539672830000805000990000940000975000998000850000 -  840000 -  1050000 -  2085000 -   -  950000 -   -   -   -  2400000 -  315000027000001950000 -  6300002260000 -  12500001850000706000999000 -   -  780000254812556512871250000 -  3400000 -   -   -  565000 -  15570005600007500001030000190500018250001925000946972 -  1328816962000138000030060872730910 -  575000 -  8400002250000 -  46500004700000 -  256212531500002390169127749911607941323714233178212829841140429394570896732711607942459063200000012829841308441150699923649902560888339076215273643421309267289635800001603733235979425509521594990250488426576223808244161900727136261669919253999038000002754356165481026550002907093286127217819272815451301910117310141749990178956442104538750001800000 -  233200023600002000000 -  1140000 -  6500001600000 -  107500022390005500000290000045000003625001285000525000906000840000365000320000 -  515000975000540000564500475000629000 -  11200001500000558004762672900000169000012197000 -  12000001240000038070226523344522793647084952637500000011936001300000 -   -   -   -   -   -   -   -   -   -   -   -   -   -  10540000010 -   -   -   -   -   -  730000920000810000380000429000600000 -  1013158450000058500002500000277500016750007200000 -   -  6400008000006325001200000 -  492000949000595000 -   -  344500465000465000417500900000 -  975000 -   -  397000505000 -  22150006000007750001187500 -  887000850000 -  899000 -   -   -  647500745000128000016000001500000880000013980007490008150007100007080001330000962000 -  860000252142 -   -  820000780000820000159000024500002387500999000165000075000085000018500001655006223500000216413124582475043979186402159860771298324409447386660580920000001400000835000725000905000 -  2492538 -  1060000 -  20922001100000 -  2800000 -   -   -  72000003900000 -  75000011000001100000 -  1230000 -   -  13700001370000 -   -  2300000 -  1790000 -  2300000137540073900074000055775054500010587500611000 -   -  8280005980006360008420009880005000001050000999999 -  925000125000013000001123129137500015000003400005650006190001730000650000 -  24231381360257137526212317121900847114966511496651826378190310612197642466757196744215273751915000 -  2300000 -   -  7100006510001275000715000650000120000062500068500065600095000088000015150009000001116000 -  2145000108000010437061700000267500010600009250001200000750000 -  1500000 -  5250000 -   -  701000 -  450000092000009950000 -   -  10 -  8950000 -  2675000 -  54000001934675022350003150000 -   -  225000010 -   -   -   -  127000078000020500000 -   -  1200000105000059200072500010 -  10101301050010010033900339004990033900499003390033900493023390049900339003390033900149700499008892053910539105391083644107820131881539102156401078203390049900499003390033900499003390049900339001497009980074700499004990049900339008892033900499005391088920539103816038160403708125995080 -  100 -  8909 -  599710010020600 -  1000010 -  31651201200000 -   -  340000 -   -  365661044422004484000 -   -   -   -   -   -   -   -   -   -   -   -  7286945312733445468543799462501387504625057805462502636246250462504528743305420874504753259613059098481407451624516299052446124512271837 -   -   -   -   -  399104341470000 -  1 -   -   -  1010 -   -   -  1000 -   -  3995000105000038000004395000219500025450007370000 -   -   -   -   -   -  91260 -  439888420000590000450000515000450000545000620000505000999000615000249000 -   -  271000 -  600000640000 -  275000 -  1600000 -   -   -  610000645000851000458400013500000605200056000007200000 -  746300027500000795000175000053500044000047500043000089900037750042500045375075175062500045000047500013250006350005130004600007455007515004990001636000765000700000 -  69000011500001620000340000912500520000450000640000820000460000430000399999680000744000438000775000660000628000 -  6350005350006364066100006760004050002090000 -  4990008500001050000405000630000479000410000535000780000615000450000585000325000150000015000001750000763687805000 -  14650007675002750005150004000003420001155000332500 -  11500008490005750003660003650003610003830004950001298268465000489255460000445000 -  416000525000465000372500358474327750003700000250000019350001299000169600018250003600000949000988000998000151500099900099999924500002000000 -  61000065200016500001060000994000800000660000620611999999 -   -   -  1880000160000093400067500083500010910000119000089500029000002530000 -  1830000 -  15450001450000700000835000609000 -  900000400000 -  79900012500003250008500002512500 -   -  1250000127500055750060000079900014200001420000166500017300001650000190000012425007800001250000570220 -  120000002350000748000 -  46800075000041463514500000 -   -  10100000 -  17726875935000002000000 -   -   -   -   -  25000412798341279839127983912798312500001320000232967411689000 -  1350000112927548003444400960362113630366285086339458628374206547863158299321517553 -   -  210550001450000010250000 -   -  34100009000031510004710004750005400007100003300000217000053000003000000 -  140000070500019250003125000 -  3000000 -  2100000605000227500031000002700000 -  26948580372500045497162545625 -  1750000 -  280018756003752443800280018725456253818437296500010150000 -  202500060000005857462550000014767150288000082000003300000149500012700001465000 -  1521500331236733174582154053 -  21500002195000265000060497049850000740000036700002800000 -   -  145000013226118 -   -   -  28000000 -   -   -   -   -   -  93000000 -  820221670000 -   -   -   -  58040 -   -  6500008000001400000965000700000 -   -  686000 -  750000725000450000960000748000433000760000735000 -   -   -   -   -   -  6300006000005000007500001220000178969 -   -  17300002269000170000018328502846008188376227712141680112162410817310251875000900000125000012500008900001495000280000016500001839000 -  28250002800000 -  366250027250003780000 -  2800000 -  359500049000005500000 -  89500010 -  750000 -   -  60000001260000 -   -  3750000187500038980001600000205000098000025500002225000 -  938800 -  595000855000935000490000 -  500000510000 -  883000 -  545000 -  640000960000890000185000011500008900007900008350008000009600009164252357500 -  36950002725000 -  620000015500003000000600000115400001501918962246699000800000890000635000 -  177000011100001850000 -  1850000 -  46000099000061000019390309300004800005400005300001160100245000011175000 -  2900000118626122800187249522128001873818437290201226729066335551254562528001873563875241834345821253309312290201220365003054750937808307460532054511960131330000044293879750004734862317598714803395 -  50785214887600 -  11900002550000 -  1120000 -  2875000 -  1041000712500712500 -  1100000 -  7050001500000 -   -   -   -  63000001370000019250003250000116000011500002100000375375013150000 -  650000041750003950000 -  2995000 -   -  7000000 -  74000003100000677136254985507355000102500003550000450000051500008600000 -  43250003500000 -  5075000599500049700004500000 -   -   -  46432256950000 -  6112554137530001092378687530001467501911070414118147541186006670500006000000 -  307500032000002450000370000010427869042200003484785450000035638758650000 -  340000029500002800000 -   -  90000000109915000108500003500000 -   -   -  2040000019000000 -   -   -  990000010500000724500038500008500000150000008500000 -  1042269111657442 -  6724153 -  11200000 -  9650001003353250003000003300003450002990004200003490003390004750004550007500062000033000035250047500046500040036440306762448750000001300000187500083000011760781707000250000833331460000025000002775000 -  22500002200000 -  526000044000003952000 -  2100000147500013250003600000145000016808 -   -  550000015450000 -  11000000 -  100000046500005200000255000012000003197250 -  3500000885000013000001695000430000044000009500001250000 -  3500000 -  35280001089000221500042500078000045000045000051000012100004750008350003875000185000018105002520000 -  195000040000001018324122500014000002300000620000025000005165000525000036000009690003825000 -   -  4025000 -  38000002700000175500021000002500001100000023000001900000 -  205000015200001800000227500010355001200000175000018850001325000510000014250002150000520000225000001250000150000134800099995052000002500000620000495000715000292500022900001545000171000026650007890001300000430000402000431000600000355000875000169000057500091300048500048500039500087000013000005950005850003251000 -  62000034500054000014750001900000 -  182500087375045500040500065000037200013750004400003990006000002936000785000390000432000145000035500004500005600001350000699000125000057900015650005500001930000 -  375500392000295000299999905000135000060000047000042500080000084000015200001400000136150016870006750003150008500009950001250000785000399500412000675000695000 -   -  799000700000600000 -  44000002240000684000690500599000350000130000088500067204569900032000096500040000004650007050004900008900002650002950008150001630018 -  14000007325007400008750004350009200007100005190006250001375000633000 -  8490008750006250007200006811599154066100008490004600008490001295000440000367500840000 -  13500008500005500005150001760005906003050003500001295000 -   -  271940094500009031661825000037443583149657292100000940000039000001245000560000990000 -  1500000 -   -  7063875900000192500030000002527500 -  2000000190000026000008010004400000 -   -  1990000 -  2100000 -   -   -  538078 -   -   -   -  880000 -  1600000145000022197853300000337500023000003475000 -  375000168000020150002750000290000031000004250000300000020100006300006600006500006050001380000600000 -  62500061500028200004450000 -  5950005550008100005580005490005400001380000 -   -  15990001165000 -   -   -  148500012285861379955142805022750002096434 -  12950008370003000000237500010870000 -  827328 -  166780086000013200006486251900000247500027500002850000 -  380000015100001232082148500021950001931500 -   -  1635000 -  210000029000005390000 -   -  645000670000805000110000013250001195000 -  2500000 -  1530000999990 -   -   -  6700001100000 -   -  95000021270001940000101000021280002600000 -  2265000 -  1059500005500000 -   -  2500000 -  132000062570759750011900009950001500000825000554000752000345250036500080000037500011500006950007010003450007250001199000790000499000820000826315580000399000358500430950415000800000 -   -   -  755000 -  66400054000085000095000053000037300058800060800065000087500012750001295222655000755000 -  84900010400009000001200000 -  280000007300001700000052500 -  558200250000001116230005500000 -   -   -   -   -  8950000 -   -   -  6500000 -   -   -   -  6787500 -  68950006000000 -  54000008551835 -   -   -  227955006175000680000065000005828968 -   -  10350000343406997314907 -  1725000160000755000 -  12500004000002800002800003200007650005400002600002950003250003000007555003946743370003650003650004060004000000 -  16000001750000 -  2500000131000002300000347227347504600000170000085000025500061717000 -  7200009000004000002605000599500038500001700000 -  4950005250001950000 -  2550000 -   -  347418655089011390000048700006150004990003728000381578145000005000005800003425000205000015875009990001300000 -   -  11200001287500286000037000001550000525000180000023300007716671000000020250003900001642500 -   -  356475410000 -  13250004850007500001850000657500075000026250001850000115000060241675000122500076500088000009000003500000163500077000065000012950001375000545000013800001650000332000082500061000033000032700012000006850000329000515000 -  529000965000 -  3475000800000099500001256250750000318048825000 -  840000612000162500011600009950004850005300004340002950000193000061000076800017400009160007150004250002650000645000112007519650004680001250000365000442000310000013400001430000270001465000567000130000068300072500064250086000099312599999937000042000095000077500097400013000003190007050005400007450008000008247825900003636170 -  16000006260006490006250005750006330001425000625000630000605000820000 -  51000013250006800006200001200000601500431050425980375000430100504900 -  6850001250000 -  875000399000475000325000480000 -  85500011000001475000 -  92500050200810500007200001065000207000016880002561001050000380000113000032500081250012500004100004100000339500089300018150001500000660000387000750000775000142000040000082500018430006500001680000 -   -  325000030875003015000 -   -  18544500 -   -  11500000 -  1012500002330000 -  103000013645001900000 -  885000 -   -   -  399900067000014900002495000 -   -   -  610000016950002550000220000022200002600000 -  93000029950003300000999000621132 -  702500580000016750005850000710000 -  755000135000094900013500001330000960000 -  935000 -   -  825714 -   -   -  221500012900001848283 -   -  93332716752271633577 -  173608244162093238038380549250885391805284 -  3001555 -  5300006900001037500103750021802504000008700009850003150000 -  895000 -  900000 -  260000 -   -  1082000 -   -  735000780000 -  8800001850000 -  3950000765000 -  780000 -  23400002300000340000011000002567500 -  5350001200000 -   -  89000072000010745000750000750000858000988000550000 -   -  152900097219671277506610777694548380645403065000 -   -   -   -   -   -  6924100297500033000002300000194500024500002942676 -  2600000103800020000002500000 -  171000001800000182000001111000009975000 -   -   -   -   -   -   -   -   -   -   -   -   -   -   -   -   -   -   -   -   -   -  97344006827200 -  10140400 -  999000837500680000 -   -  99500060000017750009850002950000 -  7075000 -  1030000001165000220000950000 -  22000001790000 -  1500000 -  545000 -  8050007600001795000675000480000 -  950000 -   -   -   -  322000016250038500001950000569250212000071500010500003300000 -  23000001312750714000 -  21500007500000 -  2810000 -  137500046000002575000 -  15273751309647120005350009850001100000 -  3250002837500375000375000 -  48388829000015500000215000004600000 -  74000096975381407810700006900004650002100000420000388000456300 -  4157406145005490008100004800005640001025000127500019250001062250510000651000525000392000105000014000001850000485000 -   -  6000003400000 -  925000163868112000008800001210000 -  110000080000011800009990001630000 -  40000055500032500006350009500001400000691000350000088000087500073000090000023000006400002175000725000250000042486697000099500023000005150004500006241667408332320000 -  34000009000001670000904000920000023000007600000 -   -  6750000 -  20625000 -  12250000 -  195000 -  11000002050000 -  280000034000001310000137500077896129011512 -  305000062000003600000 -  1525000160000013100001300000126000059500002875000 -   -   -   -   -   -   -  14975001110037 -  4800000675000 -   -   -  1399000224500029000001125000 -   -  3225000 -  4100000 -  17250002700000 -   -  277500054950002330000 -   -   -   -  92800096000018250002325000197500027500002050000 -  1300000198500031500002200000 -  180000013500003200000 -  8750001693000 -   -   -  129500012800005150000225000024200009750001750000 -  14250001149000109500016950008700000 -  13000003499000 -  885877 -   -   -   -  790000550000 -  3450000690000 -  11800000304094315386521866735589671723371642480000383750041250002525000 -  1013158761604124607581483668761630034811231646588766698285167618 -  6669537524398751421626873187537126812597789967337598525704 -   -   -   -   -   -   -  972283962074 -   -   -   -   -  946996 -   -   -  739309 -   -  851178 -   -   -  5400000 -   -   -   -   -   -   -   -   -   -   -   -   -   -   -   -   -  981530 -   -   -   -  996548 -   -   -   -  4150000758764758764 -  957699829440 -   -   -   -   -   -   -  5500000979811 -   -   -  270000020750002220075 -  14770002150000103675000135000034000001350000156000088118621969550031000001068588596924100 -  1360000 -  73500023400002200000945900740000 -  975000 -   -  9995001675000 -  2415000 -  9750009950002020000740000178000036000008400000 -  278500039250005100000 -  888500087000019950001850000885000 -   -  1274750 -  2990004500000765000242500042750062500075500061700014089501695000500000 -  615000140000075000585000 -  860000687600469000 -  7100001112400160000062750014625009150008620001400000 -  460000840004000004450005250007700007150001400000910000530000430000485000481000121000057000065000570000 -  965000915000825000844000780000765000736000850000555000585000110000082500058500054700086500071500014500001050000820000615000650000145000000 -  32500026774001150000309270309270270000213000268000232206309270139000190000 -  1910007500 -  17500100 -  4000023500150005500 -  2200094000005100000 -  80000005125000 -   -  3195000 -   -   -  5100000527500010172500000657000465000 -  51500013300005350007200009600001030000 -  262500070000081000014800004200008500005120004950008090004950001498000 -  4500001090000560000126000039950004300000150000025000001375000 -   -  359000372500230000027500002400000407500470000429500048000014300000 -  13000001551000355000 -  780000 -  4800005200000 -  24500000130000013822505000007350001210000136900043000007928792880000015900004230004400007550009000007550007800006100003950008590002395000390000840000860000 -  25000038400012150004250000 -  689000 -  1500000815000985000835000750000763000629930 -   -   -  1478000649000685000 -  6990003290000700000152500019100001650000158750023950001476462630000266000066000039500082500083500016600008550003000000586765326000733000 -  199500013750003000003850007425001450000145000011154017972113325000117500099849959900010160009340009900006950002095000670000675000 -  979000740000999999730000227477011850002850000215350089276613150004275000 -  6530001800000500000 -  82250019250001500000360000 -  1491000775000870000765000670000 -  8553301019081 -   -  3425000 -  5800000487000 -  1800000831500 -  1021990001018950008700001050000954000167602116600001010 -  600000 -  710000 -  14500002700000975000 -   -   -   -  900000 -  1250000435000014000001555000 -  1830000200000025450001670000123750017000001534000236500011250002610036 -   -  260000015900001085000 -   -   -  790000865000625000949000 -   -   -   -  6375001610000 -  852000865000121477223500001100000820000697501 -  133500081500088500077500045500018500007600001299000185000099500089000018500001500000880000995000 -  10250001360000 -   -   -   -  13000000 -  7250000 -  63500007500000 -  4000000 -  26500004775000 -   -  8650000043500071700032682632500062000069000067500041500083750082500013500001221000277500020000003650006150004984001650000 -  641497815000279000 -  7843101215000 -  5250008000006837508750006400006650003500001165000752000850000200000023250001725000130000019000002370000 -  3805275050008030003250004000001100000162500068000058000078000018500005350008990001677501600000745000970000285000323250480611158493555000 -  1995000 -  2700000 -  35500001775000275000026750003400000 -  475000705000 -  1580000715000180000014600009200009800001435000134900032533081154547473486253916332087412 -  3075000155600015150001650000366000397000 -  3750006400002410000229500093000018072 -   -   -   -   -   -   -   -  5355000 -  550000040000003900000410000098500001465000018200000 -  2373842820441978230090041800000016310588 -  36161535350000 -   -   -  200000370000337500550000 -  530000119500655000631000400250665000 -  1100000620000805000 -  78500012790005650008829847550004460006250001515000 -  6765005075000 -  45000004400000 -  6550000 -  1618556020800000 -  7750000 -  550000305000300000330000325000390000460000277000275000260000577000300000355000345000299000550000360000360000229000220000315000338000445000355000615000369000812500135000052500055000012250006190006250001137500125000061900052500044900066700057500062500087900056500052500055000062500052500059000086500053400056500073500048500011500004900004990005100004900001250000640000525000332000425000280000400000532000360000352000620000384410492500725000475000465000384728630000587000376000354000350000368230425789 -  5450005001150000 -  330000 -   -  5700007127752000000 -  7500000 -  ' to numeric",
      "\nThe above exception was the direct cause of the following exception:\n",
      "\u001b[1;31mTypeError\u001b[0m                                 Traceback (most recent call last)",
      "Cell \u001b[1;32mIn[16], line 1\u001b[0m\n\u001b[1;32m----> 1\u001b[0m summary_data \u001b[38;5;241m=\u001b[39m \u001b[43mdf\u001b[49m\u001b[38;5;241;43m.\u001b[39;49m\u001b[43mgroupby\u001b[49m\u001b[43m(\u001b[49m\u001b[43m[\u001b[49m\u001b[38;5;124;43m'\u001b[39;49m\u001b[38;5;124;43mYEAR SOLD\u001b[39;49m\u001b[38;5;124;43m'\u001b[39;49m\u001b[43m,\u001b[49m\u001b[43m \u001b[49m\u001b[38;5;124;43m'\u001b[39;49m\u001b[38;5;124;43mBOROUGH\u001b[39;49m\u001b[38;5;124;43m'\u001b[39;49m\u001b[43m]\u001b[49m\u001b[43m)\u001b[49m\u001b[43m[\u001b[49m\u001b[38;5;124;43m'\u001b[39;49m\u001b[38;5;124;43mSALE PRICE\u001b[39;49m\u001b[38;5;124;43m'\u001b[39;49m\u001b[43m]\u001b[49m\u001b[38;5;241;43m.\u001b[39;49m\u001b[43mmean\u001b[49m\u001b[43m(\u001b[49m\u001b[43m)\u001b[49m\u001b[38;5;241m.\u001b[39mreset_index()\n\u001b[0;32m      3\u001b[0m \u001b[38;5;66;03m# Barplot'u oluşturun\u001b[39;00m\n\u001b[0;32m      4\u001b[0m sns\u001b[38;5;241m.\u001b[39mbarplot(\n\u001b[0;32m      5\u001b[0m     x\u001b[38;5;241m=\u001b[39m\u001b[38;5;124m'\u001b[39m\u001b[38;5;124mYEAR SOLD\u001b[39m\u001b[38;5;124m'\u001b[39m, \n\u001b[0;32m      6\u001b[0m     y\u001b[38;5;241m=\u001b[39m\u001b[38;5;124m'\u001b[39m\u001b[38;5;124mSALE PRICE\u001b[39m\u001b[38;5;124m'\u001b[39m, \n\u001b[1;32m   (...)\u001b[0m\n\u001b[0;32m     10\u001b[0m     ci\u001b[38;5;241m=\u001b[39m\u001b[38;5;28;01mNone\u001b[39;00m\n\u001b[0;32m     11\u001b[0m )\n",
      "File \u001b[1;32mc:\\Users\\baha.ulug\\Desktop\\projects\\exploratory-analysis\\.exp_venv\\Lib\\site-packages\\pandas\\core\\groupby\\groupby.py:2452\u001b[0m, in \u001b[0;36mGroupBy.mean\u001b[1;34m(self, numeric_only, engine, engine_kwargs)\u001b[0m\n\u001b[0;32m   2445\u001b[0m     \u001b[38;5;28;01mreturn\u001b[39;00m \u001b[38;5;28mself\u001b[39m\u001b[38;5;241m.\u001b[39m_numba_agg_general(\n\u001b[0;32m   2446\u001b[0m         grouped_mean,\n\u001b[0;32m   2447\u001b[0m         executor\u001b[38;5;241m.\u001b[39mfloat_dtype_mapping,\n\u001b[0;32m   2448\u001b[0m         engine_kwargs,\n\u001b[0;32m   2449\u001b[0m         min_periods\u001b[38;5;241m=\u001b[39m\u001b[38;5;241m0\u001b[39m,\n\u001b[0;32m   2450\u001b[0m     )\n\u001b[0;32m   2451\u001b[0m \u001b[38;5;28;01melse\u001b[39;00m:\n\u001b[1;32m-> 2452\u001b[0m     result \u001b[38;5;241m=\u001b[39m \u001b[38;5;28;43mself\u001b[39;49m\u001b[38;5;241;43m.\u001b[39;49m\u001b[43m_cython_agg_general\u001b[49m\u001b[43m(\u001b[49m\n\u001b[0;32m   2453\u001b[0m \u001b[43m        \u001b[49m\u001b[38;5;124;43m\"\u001b[39;49m\u001b[38;5;124;43mmean\u001b[39;49m\u001b[38;5;124;43m\"\u001b[39;49m\u001b[43m,\u001b[49m\n\u001b[0;32m   2454\u001b[0m \u001b[43m        \u001b[49m\u001b[43malt\u001b[49m\u001b[38;5;241;43m=\u001b[39;49m\u001b[38;5;28;43;01mlambda\u001b[39;49;00m\u001b[43m \u001b[49m\u001b[43mx\u001b[49m\u001b[43m:\u001b[49m\u001b[43m \u001b[49m\u001b[43mSeries\u001b[49m\u001b[43m(\u001b[49m\u001b[43mx\u001b[49m\u001b[43m,\u001b[49m\u001b[43m \u001b[49m\u001b[43mcopy\u001b[49m\u001b[38;5;241;43m=\u001b[39;49m\u001b[38;5;28;43;01mFalse\u001b[39;49;00m\u001b[43m)\u001b[49m\u001b[38;5;241;43m.\u001b[39;49m\u001b[43mmean\u001b[49m\u001b[43m(\u001b[49m\u001b[43mnumeric_only\u001b[49m\u001b[38;5;241;43m=\u001b[39;49m\u001b[43mnumeric_only\u001b[49m\u001b[43m)\u001b[49m\u001b[43m,\u001b[49m\n\u001b[0;32m   2455\u001b[0m \u001b[43m        \u001b[49m\u001b[43mnumeric_only\u001b[49m\u001b[38;5;241;43m=\u001b[39;49m\u001b[43mnumeric_only\u001b[49m\u001b[43m,\u001b[49m\n\u001b[0;32m   2456\u001b[0m \u001b[43m    \u001b[49m\u001b[43m)\u001b[49m\n\u001b[0;32m   2457\u001b[0m     \u001b[38;5;28;01mreturn\u001b[39;00m result\u001b[38;5;241m.\u001b[39m__finalize__(\u001b[38;5;28mself\u001b[39m\u001b[38;5;241m.\u001b[39mobj, method\u001b[38;5;241m=\u001b[39m\u001b[38;5;124m\"\u001b[39m\u001b[38;5;124mgroupby\u001b[39m\u001b[38;5;124m\"\u001b[39m)\n",
      "File \u001b[1;32mc:\\Users\\baha.ulug\\Desktop\\projects\\exploratory-analysis\\.exp_venv\\Lib\\site-packages\\pandas\\core\\groupby\\groupby.py:1998\u001b[0m, in \u001b[0;36mGroupBy._cython_agg_general\u001b[1;34m(self, how, alt, numeric_only, min_count, **kwargs)\u001b[0m\n\u001b[0;32m   1995\u001b[0m     result \u001b[38;5;241m=\u001b[39m \u001b[38;5;28mself\u001b[39m\u001b[38;5;241m.\u001b[39m_agg_py_fallback(how, values, ndim\u001b[38;5;241m=\u001b[39mdata\u001b[38;5;241m.\u001b[39mndim, alt\u001b[38;5;241m=\u001b[39malt)\n\u001b[0;32m   1996\u001b[0m     \u001b[38;5;28;01mreturn\u001b[39;00m result\n\u001b[1;32m-> 1998\u001b[0m new_mgr \u001b[38;5;241m=\u001b[39m \u001b[43mdata\u001b[49m\u001b[38;5;241;43m.\u001b[39;49m\u001b[43mgrouped_reduce\u001b[49m\u001b[43m(\u001b[49m\u001b[43marray_func\u001b[49m\u001b[43m)\u001b[49m\n\u001b[0;32m   1999\u001b[0m res \u001b[38;5;241m=\u001b[39m \u001b[38;5;28mself\u001b[39m\u001b[38;5;241m.\u001b[39m_wrap_agged_manager(new_mgr)\n\u001b[0;32m   2000\u001b[0m \u001b[38;5;28;01mif\u001b[39;00m how \u001b[38;5;129;01min\u001b[39;00m [\u001b[38;5;124m\"\u001b[39m\u001b[38;5;124midxmin\u001b[39m\u001b[38;5;124m\"\u001b[39m, \u001b[38;5;124m\"\u001b[39m\u001b[38;5;124midxmax\u001b[39m\u001b[38;5;124m\"\u001b[39m]:\n",
      "File \u001b[1;32mc:\\Users\\baha.ulug\\Desktop\\projects\\exploratory-analysis\\.exp_venv\\Lib\\site-packages\\pandas\\core\\internals\\base.py:367\u001b[0m, in \u001b[0;36mSingleDataManager.grouped_reduce\u001b[1;34m(self, func)\u001b[0m\n\u001b[0;32m    365\u001b[0m \u001b[38;5;28;01mdef\u001b[39;00m \u001b[38;5;21mgrouped_reduce\u001b[39m(\u001b[38;5;28mself\u001b[39m, func):\n\u001b[0;32m    366\u001b[0m     arr \u001b[38;5;241m=\u001b[39m \u001b[38;5;28mself\u001b[39m\u001b[38;5;241m.\u001b[39marray\n\u001b[1;32m--> 367\u001b[0m     res \u001b[38;5;241m=\u001b[39m \u001b[43mfunc\u001b[49m\u001b[43m(\u001b[49m\u001b[43marr\u001b[49m\u001b[43m)\u001b[49m\n\u001b[0;32m    368\u001b[0m     index \u001b[38;5;241m=\u001b[39m default_index(\u001b[38;5;28mlen\u001b[39m(res))\n\u001b[0;32m    370\u001b[0m     mgr \u001b[38;5;241m=\u001b[39m \u001b[38;5;28mtype\u001b[39m(\u001b[38;5;28mself\u001b[39m)\u001b[38;5;241m.\u001b[39mfrom_array(res, index)\n",
      "File \u001b[1;32mc:\\Users\\baha.ulug\\Desktop\\projects\\exploratory-analysis\\.exp_venv\\Lib\\site-packages\\pandas\\core\\groupby\\groupby.py:1995\u001b[0m, in \u001b[0;36mGroupBy._cython_agg_general.<locals>.array_func\u001b[1;34m(values)\u001b[0m\n\u001b[0;32m   1992\u001b[0m     \u001b[38;5;28;01mreturn\u001b[39;00m result\n\u001b[0;32m   1994\u001b[0m \u001b[38;5;28;01massert\u001b[39;00m alt \u001b[38;5;129;01mis\u001b[39;00m \u001b[38;5;129;01mnot\u001b[39;00m \u001b[38;5;28;01mNone\u001b[39;00m\n\u001b[1;32m-> 1995\u001b[0m result \u001b[38;5;241m=\u001b[39m \u001b[38;5;28;43mself\u001b[39;49m\u001b[38;5;241;43m.\u001b[39;49m\u001b[43m_agg_py_fallback\u001b[49m\u001b[43m(\u001b[49m\u001b[43mhow\u001b[49m\u001b[43m,\u001b[49m\u001b[43m \u001b[49m\u001b[43mvalues\u001b[49m\u001b[43m,\u001b[49m\u001b[43m \u001b[49m\u001b[43mndim\u001b[49m\u001b[38;5;241;43m=\u001b[39;49m\u001b[43mdata\u001b[49m\u001b[38;5;241;43m.\u001b[39;49m\u001b[43mndim\u001b[49m\u001b[43m,\u001b[49m\u001b[43m \u001b[49m\u001b[43malt\u001b[49m\u001b[38;5;241;43m=\u001b[39;49m\u001b[43malt\u001b[49m\u001b[43m)\u001b[49m\n\u001b[0;32m   1996\u001b[0m \u001b[38;5;28;01mreturn\u001b[39;00m result\n",
      "File \u001b[1;32mc:\\Users\\baha.ulug\\Desktop\\projects\\exploratory-analysis\\.exp_venv\\Lib\\site-packages\\pandas\\core\\groupby\\groupby.py:1946\u001b[0m, in \u001b[0;36mGroupBy._agg_py_fallback\u001b[1;34m(self, how, values, ndim, alt)\u001b[0m\n\u001b[0;32m   1944\u001b[0m     msg \u001b[38;5;241m=\u001b[39m \u001b[38;5;124mf\u001b[39m\u001b[38;5;124m\"\u001b[39m\u001b[38;5;124magg function failed [how->\u001b[39m\u001b[38;5;132;01m{\u001b[39;00mhow\u001b[38;5;132;01m}\u001b[39;00m\u001b[38;5;124m,dtype->\u001b[39m\u001b[38;5;132;01m{\u001b[39;00mser\u001b[38;5;241m.\u001b[39mdtype\u001b[38;5;132;01m}\u001b[39;00m\u001b[38;5;124m]\u001b[39m\u001b[38;5;124m\"\u001b[39m\n\u001b[0;32m   1945\u001b[0m     \u001b[38;5;66;03m# preserve the kind of exception that raised\u001b[39;00m\n\u001b[1;32m-> 1946\u001b[0m     \u001b[38;5;28;01mraise\u001b[39;00m \u001b[38;5;28mtype\u001b[39m(err)(msg) \u001b[38;5;28;01mfrom\u001b[39;00m \u001b[38;5;21;01merr\u001b[39;00m\n\u001b[0;32m   1948\u001b[0m \u001b[38;5;28;01mif\u001b[39;00m ser\u001b[38;5;241m.\u001b[39mdtype \u001b[38;5;241m==\u001b[39m \u001b[38;5;28mobject\u001b[39m:\n\u001b[0;32m   1949\u001b[0m     res_values \u001b[38;5;241m=\u001b[39m res_values\u001b[38;5;241m.\u001b[39mastype(\u001b[38;5;28mobject\u001b[39m, copy\u001b[38;5;241m=\u001b[39m\u001b[38;5;28;01mFalse\u001b[39;00m)\n",
      "\u001b[1;31mTypeError\u001b[0m: agg function failed [how->mean,dtype->object]"
     ]
    }
   ],
   "source": [
    "summary_data = df.groupby(['YEAR SOLD', 'BOROUGH'])['SALE PRICE'].mean().reset_index()\n",
    "\n",
    "# Barplot'u oluşturun\n",
    "sns.barplot(\n",
    "    x='YEAR SOLD', \n",
    "    y='SALE PRICE', \n",
    "    hue='BOROUGH', \n",
    "    data=summary_data, \n",
    "    palette='rainbow', \n",
    "    ci=None\n",
    ")\n",
    "plt.title('Sales per Borough from 2016-2017')\n",
    "plt.show()"
   ]
  },
  {
   "cell_type": "code",
   "execution_count": null,
   "metadata": {},
   "outputs": [],
   "source": [
    "# Veriyi özetleyerek gruplayın ve ortalama SALE PRICE değerini hesaplayın\n",
    "summary_data = df.groupby(['MONTH SOLD', 'BOROUGH'])['SALE PRICE'].mean().reset_index()\n",
    "\n",
    "# Barplot'u oluşturun\n",
    "plt.figure(figsize=(20,5))\n",
    "sns.barplot(\n",
    "    x='MONTH SOLD', \n",
    "    y='SALE PRICE', \n",
    "    hue='BOROUGH', \n",
    "    data=summary_data, \n",
    "    palette='rainbow', \n",
    "    ci=None\n",
    ")\n",
    "plt.title('Sales per Borough from 2016-2017')\n",
    "plt.legend(loc='lower center', bbox_to_anchor=(0.5, -0.5))\n",
    "plt.show()"
   ]
  },
  {
   "cell_type": "code",
   "execution_count": null,
   "metadata": {},
   "outputs": [],
   "source": [
    "plt.figure(figsize=(20,5))\n",
    "sns.countplot(x='MONTH SOLD', hue='YEAR SOLD', data=df, palette='RdBu_r')\n",
    "\n",
    "\"\"\"\n",
    "It is noticed that though the number of sales increased from the year 2016 to 2017, \n",
    "the sales prices per Borough(location) remained in the same ranges\n",
    "Also, the property prices are much higher at Manhattan than at any other location.\n",
    "As per months, property sales for 2017 took place from January till August, \n",
    "and for 2016 from September till December.\"\"\""
   ]
  },
  {
   "cell_type": "code",
   "execution_count": null,
   "metadata": {},
   "outputs": [],
   "source": [
    "df['BUILDING AGE'] = 2017 - df['YEAR BUILT']\n",
    "df['BOROUGH'] = df['BOROUGH'].map(cons.borough_encoding)\n",
    "df['sale_year'] = pd.DatetimeIndex(df[cons.date_column]).year\n",
    "df['sale_month'] = pd.DatetimeIndex(df[cons.date_column]).month"
   ]
  },
  {
   "cell_type": "code",
   "execution_count": null,
   "metadata": {},
   "outputs": [],
   "source": [
    "#### DATA TYPE CONVERSIONS\n",
    "\n",
    "df[cons.date_column] = pd.to_datetime(df[cons.date_column], errors='coerce') \n",
    "\n",
    "for col in cons.numeric_columns: \n",
    "    df[col] = pd.to_numeric(df[col], errors='coerce')\n",
    "\n",
    "for col in cons.categorical_columns: \n",
    "    df[col] = df[col].astype(object)"
   ]
  },
  {
   "cell_type": "code",
   "execution_count": null,
   "metadata": {},
   "outputs": [],
   "source": [
    "#### MISSING DATA ANALYSIS\n",
    "\n",
    "df.replace(' ',np.nan, inplace=True)\n",
    "round(df.isna().sum() /len(df) *100,2)"
   ]
  },
  {
   "cell_type": "code",
   "execution_count": null,
   "metadata": {},
   "outputs": [],
   "source": [
    "#################### FILLING MISSING VALUES #########################"
   ]
  },
  {
   "cell_type": "code",
   "execution_count": null,
   "metadata": {},
   "outputs": [],
   "source": [
    "print(df[(df['LAND SQUARE FEET'].isnull()) & (df['GROSS SQUARE FEET'].notnull())].shape[0])\n",
    "\n",
    "print(df[(df['LAND SQUARE FEET'].notnull()) & (df['GROSS SQUARE FEET'].isnull())].shape[0])"
   ]
  },
  {
   "cell_type": "code",
   "execution_count": null,
   "metadata": {},
   "outputs": [],
   "source": [
    "print(df[(df['LAND SQUARE FEET'] == 0) & (df['GROSS SQUARE FEET'] != 0)].shape[0])\n",
    "print(df[(df['LAND SQUARE FEET'] != 0) & (df['GROSS SQUARE FEET'] == 0)].shape[0])"
   ]
  },
  {
   "cell_type": "code",
   "execution_count": null,
   "metadata": {},
   "outputs": [],
   "source": [
    "imputation = df[['LAND SQUARE FEET','GROSS SQUARE FEET']]\n",
    "imputation[(imputation['LAND SQUARE FEET'].isnull()) & (imputation['GROSS SQUARE FEET'].notnull())]\n",
    "\n",
    "imputation.dropna(inplace = True)"
   ]
  },
  {
   "cell_type": "code",
   "execution_count": null,
   "metadata": {},
   "outputs": [],
   "source": [
    "# Regression model for predicting Gross Square Feet\n",
    "\n",
    "X = imputation['LAND SQUARE FEET']\n",
    "y = imputation['GROSS SQUARE FEET']\n",
    "\n",
    "lm = LinearRegression()\n",
    "model = lm.fit(X.values.reshape(-1,1),y.values.reshape(-1,1))\n",
    "\n",
    "print(\"predicting Gross Square Feet\")\n",
    "print(\"Intercept: \", model.intercept_)\n",
    "print(\"Coefficients: \", model.coef_)\n",
    "print(\"Regression Model: Y={}+{}X\".format(model.intercept_,model.coef_))\n",
    "print(\"Rsquare: \", model.score(X.values.reshape(-1,1),y.values.reshape(-1,1)))\n",
    "\n",
    "\n",
    "# Regression model for predicting Land Square Feet\n",
    "\n",
    "X = imputation['GROSS SQUARE FEET']\n",
    "y = imputation['LAND SQUARE FEET']\n",
    "\n",
    "lm = LinearRegression()\n",
    "model = lm.fit(X.values.reshape(-1,1),y.values.reshape(-1,1))\n",
    "\n",
    "print(\"predicting Land Square Feet\")\n",
    "print(\"Intercept: \", model.intercept_)\n",
    "print(\"Coefficients: \", model.coef_)\n",
    "print(\"Regression Model: Y={}+{}X\".format(model.intercept_,model.coef_))\n",
    "print(\"Rsquare: \", model.score(X.values.reshape(-1,1),y.values.reshape(-1,1)))"
   ]
  },
  {
   "cell_type": "code",
   "execution_count": null,
   "metadata": {},
   "outputs": [],
   "source": [
    "# Gross square feet estimator\n",
    "\n",
    "def imputer_gross(x):\n",
    "    return x * 0.64779857 + 1822.76092513\n",
    "\n",
    "# land square feet estimator\n",
    "\n",
    "def imputer_land(x):\n",
    "    return x * 0.6375468 + 1107.3023519\n",
    "\n",
    "# Imputing missing values of theese columns.\n",
    "\n",
    "df['LAND SQUARE FEET'] = df['LAND SQUARE FEET'].mask((df['LAND SQUARE FEET'].isnull()) & (df['GROSS SQUARE FEET'].notnull()),\n",
    "                                                     imputer_land(df['GROSS SQUARE FEET']))\n",
    "df['GROSS SQUARE FEET'] = df['GROSS SQUARE FEET'].mask((df['LAND SQUARE FEET'].notnull()) & (df['GROSS SQUARE FEET'].isnull()),\n",
    "                                                       imputer_gross(df['LAND SQUARE FEET']))"
   ]
  },
  {
   "cell_type": "code",
   "execution_count": null,
   "metadata": {},
   "outputs": [],
   "source": [
    "# Deleting 0 price transfer transactions\n",
    "# Deleting nan values of dependence variable\n",
    "\n",
    "df = df[df[\"SALE PRICE\"] > 0]  \n",
    "df = df[df[\"SALE PRICE\"].notnull()] "
   ]
  },
  {
   "cell_type": "code",
   "execution_count": null,
   "metadata": {},
   "outputs": [],
   "source": [
    "del df[\"BUILDING CLASS AT PRESENT\"] # It contains the same information with BUILDING CLASS CATEGORY\n",
    "del df[\"ADDRESS\"] # The variable 1 not required for the model\n",
    "del df[\"ZIP CODE\"] # The variable 2 not required for the model\n",
    "del df[\"SALE DATE\"] # We don't need it as we have created the year and month variables.\n",
    "df.drop([\"EASE-MENT\",\"APARTMENT NUMBER\"], axis=1, inplace=True) # Completely empty columns.\n",
    "\n",
    "df = df.dropna() \n",
    "df.drop_duplicates(keep = \"last\", inplace=True)"
   ]
  },
  {
   "cell_type": "code",
   "execution_count": null,
   "metadata": {},
   "outputs": [],
   "source": [
    "# Removing data where commercial + residential doesn't equal total units\n",
    "df = df[df['TOTAL UNITS'] == df['COMMERCIAL UNITS'] + df['RESIDENTIAL UNITS']]"
   ]
  },
  {
   "cell_type": "code",
   "execution_count": null,
   "metadata": {},
   "outputs": [],
   "source": [
    "df[[\"TOTAL UNITS\", \"SALE PRICE\"]].groupby(['TOTAL UNITS'], as_index=False).count().sort_values(by='SALE PRICE', ascending=False)"
   ]
  },
  {
   "cell_type": "code",
   "execution_count": null,
   "metadata": {},
   "outputs": [],
   "source": [
    "# Removing rows with TOTAL UNITS == 0 and one outlier with 2261 units\n",
    "df = df[(df['TOTAL UNITS'] > 0) & (df['TOTAL UNITS'] != 2261)]\n",
    "\n",
    "# Year cannot be 0.\n",
    "df = df[df['YEAR BUILT'] != 0]\n",
    "del df['YEAR BUILT']\n",
    "\n",
    "# Square feet should not be 0.\n",
    "df = df[df[\"LAND SQUARE FEET\"] != 0]\n",
    "df = df[df[\"GROSS SQUARE FEET\"] != 0]\n",
    "\n",
    "df.shape"
   ]
  },
  {
   "cell_type": "code",
   "execution_count": null,
   "metadata": {},
   "outputs": [],
   "source": [
    "################ OUTLIER ANALYSIS\n",
    "\n",
    "df_after_missing = df.copy()\n",
    "round(df.describe([0.75,0.85,0.95,0.99,0.995,0.999]),3)"
   ]
  },
  {
   "cell_type": "raw",
   "metadata": {},
   "source": [
    "df_raw = df_raw.drop(\n",
    "    [\"NEIGHBORHOOD\",\"BUILDING CLASS CATEGORY\",\"TAX CLASS AT PRESENT\", \"BUILDING CLASS AT TIME OF SALE\"],\n",
    "    axis=1)\n",
    "\n",
    "# Correlations with target according to the progress of the study\n",
    "corr = pd.DataFrame(df.select_dtypes(include=['number']).corr().abs().unstack()\n",
    "                    .sort_values(ascending = False)[\"SALE PRICE\"][1:]).rename(columns = {0:\"Corr After Outlier and Missing\"})\n",
    "a = pd.DataFrame(df_after_missing.select_dtypes(include=['number']).corr().abs().unstack()\n",
    "                 .sort_values(ascending = False)[\"SALE PRICE\"][1:]).rename(columns = {0:\"Corr After Missing\"})\n",
    "b = pd.DataFrame(df_raw.corr().select_dtypes(include=['number']).abs().unstack()\n",
    "                 .sort_values(ascending = False)[\"SALE PRICE\"][1:]).rename(columns = {0:\"Corr Default\"}).iloc[:11,:]\n",
    "\n",
    "pd.concat([b,a,corr],axis=1).dropna()"
   ]
  },
  {
   "cell_type": "code",
   "execution_count": null,
   "metadata": {},
   "outputs": [],
   "source": [
    "del df[\"LOT\"]"
   ]
  },
  {
   "cell_type": "code",
   "execution_count": null,
   "metadata": {},
   "outputs": [],
   "source": [
    "############## VISUALIZE\n",
    "\n",
    "sns.set_style(\"whitegrid\")\n",
    "plt.figure(figsize=(12,5))\n",
    "plotd = sns.distplot(df[(df['SALE PRICE']>100) & (df['SALE PRICE'] < 5000000)]['SALE PRICE'], kde=True, bins=100)\n",
    "\n",
    "tick_spacing=250000\n",
    "plotd.xaxis.set_major_locator(ticker.MultipleLocator(tick_spacing))\n",
    "plotd.set_xlim([-100000, 5000000])\n",
    "plt.xticks(rotation=30)\n",
    "plt.axvline(df[(df['SALE PRICE']>100) & (df['SALE PRICE'] < 5000000)]['SALE PRICE'].mean(), c='red')\n",
    "plt.axvline(df[(df['SALE PRICE']>100) & (df['SALE PRICE'] < 5000000)]['SALE PRICE'].median(), c='blue')\n",
    "plt.text(250000,0.0000012, \"median\")\n",
    "plt.text(850000,0.0000010, \"mean\")\n",
    "plt.show()"
   ]
  },
  {
   "cell_type": "code",
   "execution_count": null,
   "metadata": {},
   "outputs": [],
   "source": [
    "m = df.select_dtypes(np.number)\n",
    "df[m.columns]= m.round().astype('Int64')\n",
    "pd.options.display.float_format = '{:,.0f}'.format\n",
    "df.rename(columns = {\"SALE PRICE\":\"sale_price\"},inplace = True)"
   ]
  },
  {
   "cell_type": "code",
   "execution_count": null,
   "metadata": {},
   "outputs": [],
   "source": [
    "df2 = df[(df['sale_price'] > 100000) & (df['sale_price'] < 5000000)]\n",
    "\n",
    "trace0 = go.Box(\n",
    "    y=df2.sale_price[df2.BOROUGH == 'Manhattan' ],\n",
    "    name = 'Manhattan',\n",
    "    marker = dict(\n",
    "        color = 'rgb(12, 12, 140)',\n",
    "    )\n",
    ")\n",
    "trace1 = go.Box(\n",
    "    y=df2.sale_price[df2.BOROUGH ==  'Bronx' ],\n",
    "    name = 'Bronx',\n",
    "    marker = dict(\n",
    "        color = 'rgb(8,81,156)',\n",
    "    )\n",
    ")\n",
    "trace2 = go.Box(\n",
    "    y=df2.sale_price[df2.BOROUGH ==  'Brooklyn' ],\n",
    "    name = 'Brooklyn',\n",
    "    marker = dict(\n",
    "        color = 'rgb(12, 12, 140)',\n",
    "    )\n",
    ")\n",
    "trace3 = go.Box(\n",
    "    y=df2.sale_price[df2.BOROUGH ==  'Queens' ],\n",
    "    name = 'Queens',\n",
    "    marker = dict(\n",
    "        color = 'rgb(12, 128, 128)',\n",
    "    )\n",
    ")\n",
    "trace4 = go.Box(\n",
    "    y=df2.sale_price[df2.BOROUGH ==  'Staten Island' ],\n",
    "    name = 'Staten Island',\n",
    "    marker = dict(\n",
    "        color = 'rgb(12, 12, 140)',\n",
    "    )\n",
    ")\n",
    "\n",
    "dat = [trace0, trace1, trace2, trace3, trace4]\n",
    "layout = go.Layout(\n",
    "    title='Housing Prices by Boroughs',\n",
    "    xaxis=dict(\n",
    "        title='Borough'\n",
    "    ),\n",
    "    yaxis=dict(\n",
    "        title='Sale Price'\n",
    "    ),\n",
    "    paper_bgcolor='rgb(243, 243, 243)',\n",
    "    plot_bgcolor='rgb(243, 243, 243)'\n",
    ")\n",
    "\n",
    "fig = go.Figure(data=dat, layout=layout)\n",
    "py.iplot(fig)"
   ]
  },
  {
   "cell_type": "code",
   "execution_count": null,
   "metadata": {},
   "outputs": [],
   "source": [
    "df_bar=df[['sale_month', 'sale_price']].groupby(by='sale_month').count().sort_values(by='sale_month', ascending=True).reset_index()\n",
    "df_bar.columns.values[1]='Sales_count'\n",
    "\n",
    "plt.figure(figsize=(12,6))\n",
    "sns.barplot(y = 'Sales_count', x = 'sale_month', data = df_bar)\n",
    "plt.title('Sale Count by Months')\n",
    "plt.show()"
   ]
  },
  {
   "cell_type": "code",
   "execution_count": null,
   "metadata": {},
   "outputs": [],
   "source": [
    "# There is no seasonality for house prices. So we can delete theese columns.\n",
    "del df[\"sale_year\"]\n",
    "del df[\"sale_month\"]"
   ]
  },
  {
   "cell_type": "code",
   "execution_count": null,
   "metadata": {},
   "outputs": [],
   "source": [
    "plt.figure(figsize=(16,6))\n",
    "order = sorted(df['BUILDING CLASS CATEGORY'].unique())\n",
    "sns.boxplot(x='BUILDING CLASS CATEGORY', y='sale_price', data=df, order=order)\n",
    "plt.xticks(rotation=90)\n",
    "plt.title('Sale Prices by Building Class Category')\n",
    "plt.show()"
   ]
  },
  {
   "cell_type": "code",
   "execution_count": null,
   "metadata": {},
   "outputs": [],
   "source": [
    "dataset = df[\n",
    "    (df['COMMERCIAL UNITS']<20) & (df['TOTAL UNITS']<50) & \n",
    "    (df['sale_price']<5000000) & (df['sale_price']>100000) & \n",
    "    (df['GROSS SQUARE FEET']>0)\n",
    "    ]\n",
    "\n",
    "plt.figure(figsize=(14,6))\n",
    "sns.boxplot(x='COMMERCIAL UNITS', y=\"sale_price\", data=dataset)\n",
    "plt.title('Sale Prices by Commercial Units')"
   ]
  },
  {
   "cell_type": "code",
   "execution_count": null,
   "metadata": {},
   "outputs": [],
   "source": [
    "# Deleting of unnecessary categorical variables for the model\n",
    "\n",
    "del df[\"NEIGHBORHOOD\"]\n",
    "del df['BUILDING CLASS AT TIME OF SALE']\n",
    "del df['TAX CLASS AT PRESENT']"
   ]
  },
  {
   "cell_type": "code",
   "execution_count": null,
   "metadata": {},
   "outputs": [],
   "source": [
    "#Fixing all column names to be lowercase and no spaces\n",
    "df.columns = df.columns.str.lower().str.replace(' ', '_')\n",
    "df.tax_class_at_time_of_sale = df.tax_class_at_time_of_sale.astype(object)"
   ]
  },
  {
   "cell_type": "code",
   "execution_count": null,
   "metadata": {},
   "outputs": [],
   "source": [
    "X = df.drop(\n",
    "    [\"sale_price\",\"building_class_category\",\"borough\",\"tax_class_at_time_of_sale\"],\n",
    "    axis = 1\n",
    "    ).astype(int)\n",
    "\n",
    "y = df[\"sale_price\"].astype(int)"
   ]
  },
  {
   "cell_type": "code",
   "execution_count": null,
   "metadata": {},
   "outputs": [],
   "source": [
    "X.head()"
   ]
  },
  {
   "cell_type": "code",
   "execution_count": null,
   "metadata": {},
   "outputs": [],
   "source": [
    "X_train, X_test, y_train, y_test = train_test_split(X, y, test_size=0.2, random_state = 42)"
   ]
  },
  {
   "cell_type": "code",
   "execution_count": null,
   "metadata": {},
   "outputs": [],
   "source": [
    "################################# BASE MODEL\n",
    "# Popular Regression Algorithms\n",
    "\n",
    "lm = LinearRegression()\n",
    "rf = RandomForestRegressor(random_state = 42)\n",
    "lgbm = lightgbm.LGBMRegressor(random_state = 42)\n",
    "\n",
    "\n",
    "algo = [lm, lgbm, rf]\n",
    "result = []\n",
    "\n",
    "for i in algo:\n",
    "        start = time.process_time()\n",
    "        model = i.fit(X_train,y_train)\n",
    "        result.append([str(i).split(\"(\")[0] + str(\"_baseline\"), model.score(X_train, y_train), model.score(X_test, y_test),\n",
    "                  np.sqrt(mean_squared_error(y_train, model.predict(X_train))),\n",
    "                  np.sqrt(mean_squared_error(y_test, model.predict(X_test))),\n",
    "                  mean_absolute_error(y_train, model.predict(X_train)),\n",
    "                  mean_absolute_error(y_test, model.predict(X_test))])\n",
    "        print(str(i).split(\"(\")[0],\"✓    \", \"{}\".format(time.process_time()-start),\"sn\")\n",
    "        \n",
    "result_raw_model = pd.DataFrame(result, columns = [\"Algorithm\", \"Train_Score\", \"Test_Score\", \"Train_Rmse\",\n",
    "                                         \"Test_Rmse\", \"Train_Mae\", \"Test_Mae\"]).sort_values(\"Test_Rmse\").set_index(\"Algorithm\")\n",
    "result_raw_model"
   ]
  },
  {
   "cell_type": "raw",
   "metadata": {},
   "source": [
    "## Model Development\n",
    "# 1 - a) Multicolinarity Control ( High correlation of independent variables with each other )¶\n",
    "\n",
    "\n",
    "mtr = X.corr()\n",
    "mask = np.zeros_like(mtr)\n",
    "mask[np.triu_indices_from(mask)] = True\n",
    "fig, ax = plt.subplots(figsize=(16,12))\n",
    "plt.suptitle(\"Correlation Matrix of Columns in Heatmap\", size=24)\n",
    "sns.heatmap(mtr, mask= mask, annot=True, annot_kws={\"size\": 10});"
   ]
  },
  {
   "cell_type": "raw",
   "metadata": {},
   "source": [
    "# Identifying and deleting variables with more than 75% correlation\n",
    "\n",
    "corr_matrix = X.corr().abs()\n",
    "upper = corr_matrix.where(np.triu(np.ones(corr_matrix.shape), k=1).astype(np.bool))\n",
    "[column for column in upper.columns if any(upper[column] > 0.75)]"
   ]
  },
  {
   "cell_type": "code",
   "execution_count": null,
   "metadata": {},
   "outputs": [],
   "source": [
    "del df[\"residential_units\"]\n",
    "del df[\"total_units\"]"
   ]
  },
  {
   "cell_type": "raw",
   "metadata": {},
   "source": [
    "# Identifying and deleting variables that have nothing to do with the dependent variable\n",
    "# 1 - b) Low Correlations with Dependent Variable\n",
    "\n",
    "df.corr().abs().unstack().sort_values(ascending =False )[\"sale_price\"]"
   ]
  },
  {
   "cell_type": "code",
   "execution_count": null,
   "metadata": {},
   "outputs": [],
   "source": [
    "del df[\"building_age\"]"
   ]
  },
  {
   "cell_type": "code",
   "execution_count": null,
   "metadata": {},
   "outputs": [],
   "source": [
    "# Creating dummy variables from categorical variables\n",
    "\n",
    "one_hot_variables = [\"borough\",\"building_class_category\",\"tax_class_at_time_of_sale\"]\n",
    "df = pd.get_dummies(df,prefix = one_hot_variables, prefix_sep = \"_\" , drop_first = True)"
   ]
  },
  {
   "cell_type": "code",
   "execution_count": null,
   "metadata": {},
   "outputs": [],
   "source": [
    "X = df.drop([\"sale_price\"],axis = 1).astype(int)\n",
    "y = df[\"sale_price\"].astype(int)\n",
    "X_train, X_test, y_train, y_test = train_test_split(X, y, test_size=0.2, random_state = 42)"
   ]
  },
  {
   "cell_type": "code",
   "execution_count": null,
   "metadata": {},
   "outputs": [],
   "source": [
    "algo = [lgbm, lm, rf]\n",
    "result = []\n",
    "\n",
    "for i in algo:\n",
    "        start = time.process_time()\n",
    "        model = i.fit(X_train,y_train)\n",
    "        result.append([str(i).split(\"(\")[0] + str(\"_processed\"), model.score(X_train, y_train), model.score(X_test, y_test),\n",
    "                  np.sqrt(mean_squared_error(y_train, model.predict(X_train))),\n",
    "                  np.sqrt(mean_squared_error(y_test, model.predict(X_test))),\n",
    "                  mean_absolute_error(y_train, model.predict(X_train)),\n",
    "                  mean_absolute_error(y_test, model.predict(X_test))])\n",
    "        print(str(i).split(\"(\")[0],\"✓    \", \"{}\".format(time.process_time()-start),\"sec\")\n",
    "        \n",
    "result_second_model = pd.DataFrame(result, columns = [\"Algorithm\", \"Train_Score\", \"Test_Score\", \"Train_Rmse\",\n",
    "                                         \"Test_Rmse\", \"Train_Mae\", \"Test_Mae\"]).sort_values(\"Test_Rmse\").set_index(\"Algorithm\")"
   ]
  },
  {
   "cell_type": "code",
   "execution_count": null,
   "metadata": {},
   "outputs": [],
   "source": [
    "result_second_model.head(2)"
   ]
  },
  {
   "cell_type": "code",
   "execution_count": null,
   "metadata": {},
   "outputs": [],
   "source": [
    "result_raw_model.head(2)"
   ]
  },
  {
   "cell_type": "code",
   "execution_count": null,
   "metadata": {},
   "outputs": [],
   "source": [
    "param_grid = {\n",
    "    \"n_estimators\":[100,200,300],\n",
    "    \"max_depth\":[10, 50, 100],\n",
    "    \"max_features\":[6,8,10,12,14,16]\n",
    "}\n",
    "\n",
    "rf = RandomForestRegressor(random_state = 42)\n",
    "\n",
    "rf_tuned = GridSearchCV(estimator = rf,\n",
    "                            param_grid = param_grid,\n",
    "                            cv = 2,\n",
    "                            n_jobs=-1,\n",
    "                        verbose=0)\n",
    "\n",
    "rf_tuned.fit(X_train, y_train)\n",
    "rf_tuned.best_estimator_"
   ]
  },
  {
   "cell_type": "code",
   "execution_count": null,
   "metadata": {},
   "outputs": [],
   "source": [
    "model = rf_tuned.best_estimator_.fit(X_train,y_train) # Grid Search result"
   ]
  },
  {
   "cell_type": "code",
   "execution_count": null,
   "metadata": {},
   "outputs": [],
   "source": [
    "result_optimize_model = []\n",
    "result_optimize_model.append([\"RandomForestRegressor Optimize\", model.score(X_train, y_train), model.score(X_test, y_test),\n",
    "                  np.sqrt(mean_squared_error(y_train, model.predict(X_train))),\n",
    "                  np.sqrt(mean_squared_error(y_test, model.predict(X_test))),\n",
    "                  mean_absolute_error(y_train, model.predict(X_train)),\n",
    "                  mean_absolute_error(y_test, model.predict(X_test))])\n",
    "\n",
    "pd.DataFrame(result_optimize_model, columns = [\"Algorithm\", \"Train_Score\", \"Test_Score\", \"Train_Rmse\",\n",
    "                                         \"Test_Rmse\", \"Train_Mae\", \"Test_Mae\"]).sort_values(\"Test_Rmse\").set_index(\"Algorithm\")"
   ]
  },
  {
   "cell_type": "code",
   "execution_count": null,
   "metadata": {},
   "outputs": [],
   "source": [
    "result_second_model[:1]\n"
   ]
  },
  {
   "cell_type": "code",
   "execution_count": null,
   "metadata": {},
   "outputs": [],
   "source": [
    "rankings = model.feature_importances_.tolist()\n",
    "importance = pd.DataFrame(sorted(zip(X_train.columns,rankings),reverse=True),columns=[\"variable\",\"importance\"]).sort_values(\"importance\",ascending = False)"
   ]
  },
  {
   "cell_type": "code",
   "execution_count": null,
   "metadata": {},
   "outputs": [],
   "source": [
    "plt.figure(figsize=(15,10))\n",
    "sns.barplot(x=\"importance\",\n",
    "            y=\"variable\",\n",
    "            data=importance)\n",
    "plt.title('Değişken Önemleri')\n",
    "plt.tight_layout()"
   ]
  }
 ],
 "metadata": {
  "kernelspec": {
   "display_name": ".exp_venv",
   "language": "python",
   "name": "python3"
  },
  "language_info": {
   "codemirror_mode": {
    "name": "ipython",
    "version": 3
   },
   "file_extension": ".py",
   "mimetype": "text/x-python",
   "name": "python",
   "nbconvert_exporter": "python",
   "pygments_lexer": "ipython3",
   "version": "3.11.3"
  }
 },
 "nbformat": 4,
 "nbformat_minor": 2
}
