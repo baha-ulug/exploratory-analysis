{
 "cells": [
  {
   "cell_type": "code",
   "execution_count": null,
   "metadata": {},
   "outputs": [],
   "source": [
    "import pandas as pd\n",
    "import numpy as np\n",
    "\n",
    "import constants as cons\n",
    "\n",
    "import matplotlib.pyplot as plt\n",
    "import matplotlib.ticker as ticker\n",
    "import plotly.graph_objs as go\n",
    "import plotly.offline as py\n",
    "import seaborn as sns\n",
    "\n",
    "from sklearn.linear_model import LinearRegression\n",
    "from sklearn.ensemble import RandomForestRegressor\n",
    "#import lightgbm\n",
    "\n",
    "from sklearn.model_selection import train_test_split\n",
    "from sklearn.metrics import mean_squared_error,r2_score, mean_absolute_error\n",
    "from sklearn.preprocessing import StandardScaler\n",
    "from sklearn.model_selection import GridSearchCV\n",
    "\n",
    "import warnings\n",
    "warnings.filterwarnings('ignore')"
   ]
  },
  {
   "cell_type": "code",
   "execution_count": null,
   "metadata": {},
   "outputs": [],
   "source": [
    "%matplotlib inline\n",
    "sns.set(style='white', context='notebook', palette='deep') \n",
    "\n",
    "import matplotlib.style as style\n",
    "style.use('fivethirtyeight')\n",
    "import time"
   ]
  },
  {
   "cell_type": "code",
   "execution_count": null,
   "metadata": {},
   "outputs": [],
   "source": [
    "df = pd.read_csv(\"data/nyc-rolling-sales.csv\", index_col=0)\n",
    "df.head()"
   ]
  },
  {
   "cell_type": "markdown",
   "metadata": {},
   "source": [
    "BOROUGH: \n",
    "A digit code for the borough the property is located in.\n",
    "\n",
    "- Manhattan = 1\n",
    "\n",
    "- Bronx = 2\n",
    "\n",
    "- Brooklyn = 3\n",
    "\n",
    "- Queens = 4\n",
    "\n",
    "- Staten Island = 5\n",
    "\n",
    "BLOCK; LOT: \n",
    "\n",
    "- The combination of borough, block, and lot forms a unique key for property in New York City.\n",
    "\n",
    "\n",
    "BUILDING CLASS AT PRESENT and BUILDING CLASS AT TIME OF SALE: \n",
    "\n",
    "- The type of building at various points in time.\n",
    "\n",
    "\n",
    "** Note : 0 dollar sales are actually transfers of ownership between parties."
   ]
  },
  {
   "cell_type": "code",
   "execution_count": null,
   "metadata": {},
   "outputs": [],
   "source": [
    "\n",
    "df_raw = df.copy()"
   ]
  },
  {
   "cell_type": "code",
   "execution_count": null,
   "metadata": {},
   "outputs": [],
   "source": [
    "###################################### EXPLORE ######################################"
   ]
  },
  {
   "cell_type": "code",
   "execution_count": null,
   "metadata": {},
   "outputs": [],
   "source": [
    "df.head()"
   ]
  },
  {
   "cell_type": "code",
   "execution_count": null,
   "metadata": {},
   "outputs": [],
   "source": [
    "df.shape"
   ]
  },
  {
   "cell_type": "code",
   "execution_count": null,
   "metadata": {},
   "outputs": [],
   "source": [
    "df.info()"
   ]
  },
  {
   "cell_type": "code",
   "execution_count": null,
   "metadata": {},
   "outputs": [],
   "source": [
    "###################################### FEATURE ENGINEERING ######################################"
   ]
  },
  {
   "cell_type": "code",
   "execution_count": null,
   "metadata": {},
   "outputs": [],
   "source": [
    "df['BUILDING AGE'] = 2017 - df['YEAR BUILT']\n",
    "df['BOROUGH'] = df['BOROUGH'].map(cons.borough_encoding)\n",
    "df['sale_year'] = pd.DatetimeIndex(df[cons.date_column]).year\n",
    "df['sale_month'] = pd.DatetimeIndex(df[cons.date_column]).month"
   ]
  },
  {
   "cell_type": "code",
   "execution_count": null,
   "metadata": {},
   "outputs": [],
   "source": [
    "#### DATA TYPE CONVERSIONS\n",
    "\n",
    "df[cons.date_column] = pd.to_datetime(df[cons.date_column], errors='coerce') \n",
    "\n",
    "for col in cons.numeric_columns: \n",
    "    df[col] = pd.to_numeric(df[col], errors='coerce')\n",
    "\n",
    "for col in cons.categorical_columns: \n",
    "    df[col] = df[col].astype(object)"
   ]
  },
  {
   "cell_type": "code",
   "execution_count": null,
   "metadata": {},
   "outputs": [],
   "source": [
    "#### MISSING DATA ANALYSIS\n",
    "\n",
    "df.replace(' ',np.nan, inplace=True)\n",
    "round(df.isna().sum() /len(df) *100,2)"
   ]
  },
  {
   "cell_type": "code",
   "execution_count": null,
   "metadata": {},
   "outputs": [],
   "source": [
    "#################### FILLING MISSING VALUES #########################"
   ]
  },
  {
   "cell_type": "code",
   "execution_count": null,
   "metadata": {},
   "outputs": [],
   "source": [
    "print(df[(df['LAND SQUARE FEET'].isnull()) & (df['GROSS SQUARE FEET'].notnull())].shape[0])\n",
    "\n",
    "print(df[(df['LAND SQUARE FEET'].notnull()) & (df['GROSS SQUARE FEET'].isnull())].shape[0])"
   ]
  },
  {
   "cell_type": "code",
   "execution_count": null,
   "metadata": {},
   "outputs": [],
   "source": [
    "print(df[(df['LAND SQUARE FEET'] == 0) & (df['GROSS SQUARE FEET'] != 0)].shape[0])\n",
    "print(df[(df['LAND SQUARE FEET'] != 0) & (df['GROSS SQUARE FEET'] == 0)].shape[0])"
   ]
  },
  {
   "cell_type": "code",
   "execution_count": null,
   "metadata": {},
   "outputs": [],
   "source": [
    "imputation = df[['LAND SQUARE FEET','GROSS SQUARE FEET']]\n",
    "imputation[(imputation['LAND SQUARE FEET'].isnull()) & (imputation['GROSS SQUARE FEET'].notnull())]\n",
    "\n",
    "imputation.dropna(inplace = True)"
   ]
  },
  {
   "cell_type": "code",
   "execution_count": null,
   "metadata": {},
   "outputs": [],
   "source": [
    "# Regression model for predicting Gross Square Feet\n",
    "\n",
    "X = imputation['LAND SQUARE FEET']\n",
    "y = imputation['GROSS SQUARE FEET']\n",
    "\n",
    "lm = LinearRegression()\n",
    "model = lm.fit(X.values.reshape(-1,1),y.values.reshape(-1,1))\n",
    "\n",
    "print(\"predicting Gross Square Feet\")\n",
    "print(\"Intercept: \", model.intercept_)\n",
    "print(\"Coefficients: \", model.coef_)\n",
    "print(\"Regression Model: Y={}+{}X\".format(model.intercept_,model.coef_))\n",
    "print(\"Rsquare: \", model.score(X.values.reshape(-1,1),y.values.reshape(-1,1)))\n",
    "\n",
    "\n",
    "# Regression model for predicting Land Square Feet\n",
    "\n",
    "X = imputation['GROSS SQUARE FEET']\n",
    "y = imputation['LAND SQUARE FEET']\n",
    "\n",
    "lm = LinearRegression()\n",
    "model = lm.fit(X.values.reshape(-1,1),y.values.reshape(-1,1))\n",
    "\n",
    "print(\"predicting Land Square Feet\")\n",
    "print(\"Intercept: \", model.intercept_)\n",
    "print(\"Coefficients: \", model.coef_)\n",
    "print(\"Regression Model: Y={}+{}X\".format(model.intercept_,model.coef_))\n",
    "print(\"Rsquare: \", model.score(X.values.reshape(-1,1),y.values.reshape(-1,1)))"
   ]
  },
  {
   "cell_type": "code",
   "execution_count": null,
   "metadata": {},
   "outputs": [],
   "source": [
    "# Gross square feet estimator\n",
    "\n",
    "def imputer_gross(x):\n",
    "    return x * 0.64779857 + 1822.76092513\n",
    "\n",
    "# land square feet estimator\n",
    "\n",
    "def imputer_land(x):\n",
    "    return x * 0.6375468 + 1107.3023519\n",
    "\n",
    "# Imputing missing values of theese columns.\n",
    "\n",
    "df['LAND SQUARE FEET'] = df['LAND SQUARE FEET'].mask((df['LAND SQUARE FEET'].isnull()) & (df['GROSS SQUARE FEET'].notnull()),\n",
    "                                                     imputer_land(df['GROSS SQUARE FEET']))\n",
    "df['GROSS SQUARE FEET'] = df['GROSS SQUARE FEET'].mask((df['LAND SQUARE FEET'].notnull()) & (df['GROSS SQUARE FEET'].isnull()),\n",
    "                                                       imputer_gross(df['LAND SQUARE FEET']))"
   ]
  },
  {
   "cell_type": "raw",
   "metadata": {},
   "source": [
    "# Deleting 0 price transfer transactions\n",
    "# Deleting nan values of dependence variable\n",
    "\n",
    "df = df[df[\"SALE PRICE\"] > 0]  \n",
    "df = df[df[\"SALE PRICE\"].notnull()] "
   ]
  },
  {
   "cell_type": "code",
   "execution_count": null,
   "metadata": {},
   "outputs": [],
   "source": [
    "del df[\"BUILDING CLASS AT PRESENT\"] # It contains the same information with BUILDING CLASS CATEGORY\n",
    "del df[\"ADDRESS\"] # The variable 1 not required for the model\n",
    "del df[\"ZIP CODE\"] # The variable 2 not required for the model\n",
    "del df[\"SALE DATE\"] # We don't need it as we have created the year and month variables.\n",
    "df.drop([\"EASE-MENT\",\"APARTMENT NUMBER\"], axis=1, inplace=True) # Completely empty columns.\n",
    "\n",
    "df = df.dropna() \n",
    "df.drop_duplicates(keep = \"last\", inplace=True)"
   ]
  },
  {
   "cell_type": "code",
   "execution_count": null,
   "metadata": {},
   "outputs": [],
   "source": [
    "# Removing data where commercial + residential doesn't equal total units\n",
    "df = df[df['TOTAL UNITS'] == df['COMMERCIAL UNITS'] + df['RESIDENTIAL UNITS']]"
   ]
  },
  {
   "cell_type": "code",
   "execution_count": null,
   "metadata": {},
   "outputs": [],
   "source": [
    "df[[\"TOTAL UNITS\", \"SALE PRICE\"]].groupby(['TOTAL UNITS'], as_index=False).count().sort_values(by='SALE PRICE', ascending=False)"
   ]
  },
  {
   "cell_type": "code",
   "execution_count": null,
   "metadata": {},
   "outputs": [],
   "source": [
    "# Removing rows with TOTAL UNITS == 0 and one outlier with 2261 units\n",
    "df = df[(df['TOTAL UNITS'] > 0) & (df['TOTAL UNITS'] != 2261)]\n",
    "\n",
    "# Year cannot be 0.\n",
    "df = df[df['YEAR BUILT'] != 0]\n",
    "del df['YEAR BUILT']\n",
    "\n",
    "# Square feet should not be 0.\n",
    "df = df[df[\"LAND SQUARE FEET\"] != 0]\n",
    "df = df[df[\"GROSS SQUARE FEET\"] != 0]\n",
    "\n",
    "df.shape"
   ]
  },
  {
   "cell_type": "code",
   "execution_count": null,
   "metadata": {},
   "outputs": [],
   "source": [
    "################ OUTLIER ANALYSIS\n",
    "\n",
    "df_after_missing = df.copy()\n",
    "round(df.describe([0.75,0.85,0.95,0.99,0.995,0.999]),3)"
   ]
  },
  {
   "cell_type": "raw",
   "metadata": {},
   "source": [
    "df_raw = df_raw.drop(\n",
    "    [\"NEIGHBORHOOD\",\"BUILDING CLASS CATEGORY\",\"TAX CLASS AT PRESENT\", \"BUILDING CLASS AT TIME OF SALE\"],\n",
    "    axis=1)\n",
    "\n",
    "# Correlations with target according to the progress of the study\n",
    "corr = pd.DataFrame(df.select_dtypes(include=['number']).corr().abs().unstack()\n",
    "                    .sort_values(ascending = False)[\"SALE PRICE\"][1:]).rename(columns = {0:\"Corr After Outlier and Missing\"})\n",
    "a = pd.DataFrame(df_after_missing.select_dtypes(include=['number']).corr().abs().unstack()\n",
    "                 .sort_values(ascending = False)[\"SALE PRICE\"][1:]).rename(columns = {0:\"Corr After Missing\"})\n",
    "b = pd.DataFrame(df_raw.corr().select_dtypes(include=['number']).abs().unstack()\n",
    "                 .sort_values(ascending = False)[\"SALE PRICE\"][1:]).rename(columns = {0:\"Corr Default\"}).iloc[:11,:]\n",
    "\n",
    "pd.concat([b,a,corr],axis=1).dropna()"
   ]
  },
  {
   "cell_type": "code",
   "execution_count": null,
   "metadata": {},
   "outputs": [],
   "source": [
    "del df[\"LOT\"]"
   ]
  },
  {
   "cell_type": "code",
   "execution_count": null,
   "metadata": {},
   "outputs": [],
   "source": [
    "############## VISUALIZE\n",
    "\n",
    "sns.set_style(\"whitegrid\")\n",
    "plt.figure(figsize=(12,5))\n",
    "plotd = sns.distplot(df[(df['SALE PRICE']>100) & (df['SALE PRICE'] < 5000000)]['SALE PRICE'], kde=True, bins=100)\n",
    "\n",
    "tick_spacing=250000\n",
    "plotd.xaxis.set_major_locator(ticker.MultipleLocator(tick_spacing))\n",
    "plotd.set_xlim([-100000, 5000000])\n",
    "plt.xticks(rotation=30)\n",
    "plt.axvline(df[(df['SALE PRICE']>100) & (df['SALE PRICE'] < 5000000)]['SALE PRICE'].mean(), c='red')\n",
    "plt.axvline(df[(df['SALE PRICE']>100) & (df['SALE PRICE'] < 5000000)]['SALE PRICE'].median(), c='blue')\n",
    "plt.text(250000,0.0000012, \"median\")\n",
    "plt.text(850000,0.0000010, \"mean\")\n",
    "plt.show()"
   ]
  },
  {
   "cell_type": "code",
   "execution_count": null,
   "metadata": {},
   "outputs": [],
   "source": [
    "m = df.select_dtypes(np.number)\n",
    "df[m.columns]= m.round().astype('Int64')\n",
    "pd.options.display.float_format = '{:,.0f}'.format\n",
    "df.rename(columns = {\"SALE PRICE\":\"sale_price\"},inplace = True)"
   ]
  },
  {
   "cell_type": "code",
   "execution_count": null,
   "metadata": {},
   "outputs": [],
   "source": [
    "df2 = df[(df['sale_price'] > 100000) & (df['sale_price'] < 5000000)]\n",
    "\n",
    "trace0 = go.Box(\n",
    "    y=df2.sale_price[df2.BOROUGH == 'Manhattan' ],\n",
    "    name = 'Manhattan',\n",
    "    marker = dict(\n",
    "        color = 'rgb(12, 12, 140)',\n",
    "    )\n",
    ")\n",
    "trace1 = go.Box(\n",
    "    y=df2.sale_price[df2.BOROUGH ==  'Bronx' ],\n",
    "    name = 'Bronx',\n",
    "    marker = dict(\n",
    "        color = 'rgb(8,81,156)',\n",
    "    )\n",
    ")\n",
    "trace2 = go.Box(\n",
    "    y=df2.sale_price[df2.BOROUGH ==  'Brooklyn' ],\n",
    "    name = 'Brooklyn',\n",
    "    marker = dict(\n",
    "        color = 'rgb(12, 12, 140)',\n",
    "    )\n",
    ")\n",
    "trace3 = go.Box(\n",
    "    y=df2.sale_price[df2.BOROUGH ==  'Queens' ],\n",
    "    name = 'Queens',\n",
    "    marker = dict(\n",
    "        color = 'rgb(12, 128, 128)',\n",
    "    )\n",
    ")\n",
    "trace4 = go.Box(\n",
    "    y=df2.sale_price[df2.BOROUGH ==  'Staten Island' ],\n",
    "    name = 'Staten Island',\n",
    "    marker = dict(\n",
    "        color = 'rgb(12, 12, 140)',\n",
    "    )\n",
    ")\n",
    "\n",
    "dat = [trace0, trace1, trace2, trace3, trace4]\n",
    "layout = go.Layout(\n",
    "    title='Housing Prices by Boroughs',\n",
    "    xaxis=dict(\n",
    "        title='Borough'\n",
    "    ),\n",
    "    yaxis=dict(\n",
    "        title='Sale Price'\n",
    "    ),\n",
    "    paper_bgcolor='rgb(243, 243, 243)',\n",
    "    plot_bgcolor='rgb(243, 243, 243)'\n",
    ")\n",
    "\n",
    "fig = go.Figure(data=dat, layout=layout)\n",
    "py.iplot(fig)"
   ]
  },
  {
   "cell_type": "code",
   "execution_count": null,
   "metadata": {},
   "outputs": [],
   "source": [
    "df_bar=df[['sale_month', 'sale_price']].groupby(by='sale_month').count().sort_values(by='sale_month', ascending=True).reset_index()\n",
    "df_bar.columns.values[1]='Sales_count'\n",
    "\n",
    "plt.figure(figsize=(12,6))\n",
    "sns.barplot(y = 'Sales_count', x = 'sale_month', data = df_bar)\n",
    "plt.title('Sale Count by Months')\n",
    "plt.show()"
   ]
  },
  {
   "cell_type": "code",
   "execution_count": null,
   "metadata": {},
   "outputs": [],
   "source": [
    "# There is no seasonality for house prices. So we can delete theese columns.\n",
    "del df[\"sale_year\"]\n",
    "del df[\"sale_month\"]"
   ]
  },
  {
   "cell_type": "code",
   "execution_count": null,
   "metadata": {},
   "outputs": [],
   "source": [
    "plt.figure(figsize=(16,6))\n",
    "order = sorted(dataset['BUILDING CLASS CATEGORY'].unique())\n",
    "sns.boxplot(x='BUILDING CLASS CATEGORY', y='sale_price', data=dataset, order=order)\n",
    "plt.xticks(rotation=90)\n",
    "plt.title('Sale Prices by Building Class Category')\n",
    "plt.show()"
   ]
  },
  {
   "cell_type": "code",
   "execution_count": null,
   "metadata": {},
   "outputs": [],
   "source": [
    "dataset = df[(df['COMMERCIAL UNITS']<20) & (df['TOTAL UNITS']<50) & (df['sale_price']<5000000) & (df['sale_price']>100000) & (df['GROSS SQUARE FEET']>0)]\n",
    "\n",
    "plt.figure(figsize=(14,6))\n",
    "sns.boxplot(x='COMMERCIAL UNITS', y=\"sale_price\", data=dataset)\n",
    "plt.title('Sale Prices by Commercial Units');"
   ]
  },
  {
   "cell_type": "code",
   "execution_count": null,
   "metadata": {},
   "outputs": [],
   "source": [
    "# Deleting of unnecessary categorical variables for the model\n",
    "\n",
    "del df[\"NEIGHBORHOOD\"]\n",
    "del df['BUILDING CLASS AT TIME OF SALE']\n",
    "del df['TAX CLASS AT PRESENT']"
   ]
  },
  {
   "cell_type": "code",
   "execution_count": null,
   "metadata": {},
   "outputs": [],
   "source": [
    "#Fixing all column names to be lowercase and no spaces\n",
    "df.columns = df.columns.str.lower().str.replace(' ', '_')\n",
    "df.tax_class_at_time_of_sale = df.tax_class_at_time_of_sale.astype(object)"
   ]
  },
  {
   "cell_type": "code",
   "execution_count": null,
   "metadata": {},
   "outputs": [],
   "source": [
    "X = df.drop([\"sale_price\",\"building_class_category\",\"borough\",\"tax_class_at_time_of_sale\"],axis = 1).astype(int)\n",
    "y = df[\"sale_price\"].astype(int)"
   ]
  },
  {
   "cell_type": "code",
   "execution_count": null,
   "metadata": {},
   "outputs": [],
   "source": [
    "X = df.drop([\"sale_price\",\"building_class_category\",\"borough\",\"tax_class_at_time_of_sale\"],axis = 1).astype(int)\n",
    "y = df[\"sale_price\"].astype(int)\n",
    "X_train, X_test, y_train, y_test = train_test_split(X, y, test_size=0.2, random_state = 42)"
   ]
  },
  {
   "cell_type": "code",
   "execution_count": null,
   "metadata": {},
   "outputs": [],
   "source": [
    "################################# BASE MODEL\n",
    "# Popular Regression Algorithms\n",
    "\n",
    "lm = LinearRegression()\n",
    "rf = RandomForestRegressor(random_state = 42)\n",
    "lgbm = lightgbm.LGBMRegressor(random_state = 42)\n",
    "\n",
    "\n",
    "algo = [lm, lgbm, rf]\n",
    "result = []\n",
    "\n",
    "for i in algo:\n",
    "        start = time.process_time()\n",
    "        model = i.fit(X_train,y_train)\n",
    "        result.append([str(i).split(\"(\")[0] + str(\"_baseline\"), model.score(X_train, y_train), model.score(X_test, y_test),\n",
    "                  np.sqrt(mean_squared_error(y_train, model.predict(X_train))),\n",
    "                  np.sqrt(mean_squared_error(y_test, model.predict(X_test))),\n",
    "                  mean_absolute_error(y_train, model.predict(X_train)),\n",
    "                  mean_absolute_error(y_test, model.predict(X_test))])\n",
    "        print(str(i).split(\"(\")[0],\"✓    \", \"{}\".format(time.process_time()-start),\"sn\")\n",
    "        \n",
    "result_raw_model = pd.DataFrame(result, columns = [\"Algorithm\", \"Train_Score\", \"Test_Score\", \"Train_Rmse\",\n",
    "                                         \"Test_Rmse\", \"Train_Mae\", \"Test_Mae\"]).sort_values(\"Test_Rmse\").set_index(\"Algorithm\")\n",
    "result_raw_model"
   ]
  },
  {
   "cell_type": "code",
   "execution_count": null,
   "metadata": {},
   "outputs": [],
   "source": [
    "## Model Development\n",
    "# 1 - a) Multicolinarity Control ( High correlation of independent variables with each other )¶\n",
    "\n",
    "\n",
    "mtr = df.corr()\n",
    "mask = np.zeros_like(mtr)\n",
    "mask[np.triu_indices_from(mask)] = True\n",
    "fig, ax = plt.subplots(figsize=(16,12))\n",
    "plt.suptitle(\"Correlation Matrix of Columns in Heatmap\", size=24)\n",
    "sns.heatmap(mtr, mask= mask, annot=True, annot_kws={\"size\": 10});"
   ]
  },
  {
   "cell_type": "code",
   "execution_count": null,
   "metadata": {},
   "outputs": [],
   "source": [
    "# Identifying and deleting variables with more than 75% correlation\n",
    "\n",
    "corr_matrix = df.corr().abs()\n",
    "upper = corr_matrix.where(np.triu(np.ones(corr_matrix.shape), k=1).astype(np.bool))\n",
    "[column for column in upper.columns if any(upper[column] > 0.75)]"
   ]
  },
  {
   "cell_type": "code",
   "execution_count": null,
   "metadata": {},
   "outputs": [],
   "source": [
    "del df[\"residential_units\"]\n",
    "del df[\"total_units\"]"
   ]
  },
  {
   "cell_type": "code",
   "execution_count": null,
   "metadata": {},
   "outputs": [],
   "source": [
    "# Identifying and deleting variables that have nothing to do with the dependent variable\n",
    "# 1 - b) Low Correlations with Dependent Variable\n",
    "\n",
    "df.corr().abs().unstack().sort_values(ascending =False )[\"sale_price\"]"
   ]
  },
  {
   "cell_type": "code",
   "execution_count": null,
   "metadata": {},
   "outputs": [],
   "source": [
    "del df[\"building_age\"]"
   ]
  },
  {
   "cell_type": "code",
   "execution_count": null,
   "metadata": {},
   "outputs": [],
   "source": [
    "# Creating dummy variables from categorical variables\n",
    "\n",
    "one_hot_variables = [\"borough\",\"building_class_category\",\"tax_class_at_time_of_sale\"]\n",
    "df = pd.get_dummies(df,prefix = one_hot_variables, prefix_sep = \"_\" , drop_first = True)"
   ]
  },
  {
   "cell_type": "code",
   "execution_count": null,
   "metadata": {},
   "outputs": [],
   "source": [
    "X = df.drop([\"sale_price\"],axis = 1).astype(int)\n",
    "y = df[\"sale_price\"].astype(int)\n",
    "X_train, X_test, y_train, y_test = train_test_split(X, y, test_size=0.2, random_state = 42)"
   ]
  },
  {
   "cell_type": "code",
   "execution_count": null,
   "metadata": {},
   "outputs": [],
   "source": [
    "algo = [lgbm,lm, rf]\n",
    "result = []\n",
    "\n",
    "for i in algo:\n",
    "        start = time.process_time()\n",
    "        model = i.fit(X_train,y_train)\n",
    "        result.append([str(i).split(\"(\")[0] + str(\"_processed\"), model.score(X_train, y_train), model.score(X_test, y_test),\n",
    "                  np.sqrt(mean_squared_error(y_train, model.predict(X_train))),\n",
    "                  np.sqrt(mean_squared_error(y_test, model.predict(X_test))),\n",
    "                  mean_absolute_error(y_train, model.predict(X_train)),\n",
    "                  mean_absolute_error(y_test, model.predict(X_test))])\n",
    "        print(str(i).split(\"(\")[0],\"✓    \", \"{}\".format(time.process_time()-start),\"sec\")\n",
    "        \n",
    "result_second_model = pd.DataFrame(result, columns = [\"Algorithm\", \"Train_Score\", \"Test_Score\", \"Train_Rmse\",\n",
    "                                         \"Test_Rmse\", \"Train_Mae\", \"Test_Mae\"]).sort_values(\"Test_Rmse\").set_index(\"Algorithm\")"
   ]
  },
  {
   "cell_type": "code",
   "execution_count": null,
   "metadata": {},
   "outputs": [],
   "source": [
    "result_second_model.head(2)"
   ]
  },
  {
   "cell_type": "code",
   "execution_count": null,
   "metadata": {},
   "outputs": [],
   "source": [
    "result_raw_model.head(2)"
   ]
  },
  {
   "cell_type": "code",
   "execution_count": null,
   "metadata": {},
   "outputs": [],
   "source": [
    "param_grid = {\n",
    "    \"n_estimators\":[100,200,300],\n",
    "    \"max_depth\":[10, 50, 100],\n",
    "    \"max_features\":[6,8,10,12,14,16]\n",
    "}\n",
    "\n",
    "rf = RandomForestRegressor(random_state = 42)\n",
    "\n",
    "rf_tuned = GridSearchCV(estimator = rf,\n",
    "                            param_grid = param_grid,\n",
    "                            cv = 2,\n",
    "                            n_jobs=-1,\n",
    "                        verbose=0)\n",
    "\n",
    "rf_tuned.fit(X_train, y_train)\n",
    "rf_tuned.best_estimator_"
   ]
  },
  {
   "cell_type": "code",
   "execution_count": null,
   "metadata": {},
   "outputs": [],
   "source": [
    "model = rf_tuned.best_estimator_.fit(X_train,y_train) # Grid Search result"
   ]
  },
  {
   "cell_type": "code",
   "execution_count": null,
   "metadata": {},
   "outputs": [],
   "source": [
    "result_optimize_model = []\n",
    "result_optimize_model.append([\"RandomForestRegressor Optimize\", model.score(X_train, y_train), model.score(X_test, y_test),\n",
    "                  np.sqrt(mean_squared_error(y_train, model.predict(X_train))),\n",
    "                  np.sqrt(mean_squared_error(y_test, model.predict(X_test))),\n",
    "                  mean_absolute_error(y_train, model.predict(X_train)),\n",
    "                  mean_absolute_error(y_test, model.predict(X_test))])\n",
    "\n",
    "pd.DataFrame(result_optimize_model, columns = [\"Algorithm\", \"Train_Score\", \"Test_Score\", \"Train_Rmse\",\n",
    "                                         \"Test_Rmse\", \"Train_Mae\", \"Test_Mae\"]).sort_values(\"Test_Rmse\").set_index(\"Algorithm\")"
   ]
  },
  {
   "cell_type": "code",
   "execution_count": null,
   "metadata": {},
   "outputs": [],
   "source": [
    "result_second_model[:1]\n"
   ]
  },
  {
   "cell_type": "code",
   "execution_count": null,
   "metadata": {},
   "outputs": [],
   "source": [
    "rankings = model.feature_importances_.tolist()\n",
    "importance = pd.DataFrame(sorted(zip(X_train.columns,rankings),reverse=True),columns=[\"variable\",\"importance\"]).sort_values(\"importance\",ascending = False)"
   ]
  },
  {
   "cell_type": "code",
   "execution_count": null,
   "metadata": {},
   "outputs": [],
   "source": [
    "plt.figure(figsize=(15,10))\n",
    "sns.barplot(x=\"importance\",\n",
    "            y=\"variable\",\n",
    "            data=importance)\n",
    "plt.title('Değişken Önemleri')\n",
    "plt.tight_layout()"
   ]
  }
 ],
 "metadata": {
  "kernelspec": {
   "display_name": ".exp_venv",
   "language": "python",
   "name": "python3"
  },
  "language_info": {
   "codemirror_mode": {
    "name": "ipython",
    "version": 3
   },
   "file_extension": ".py",
   "mimetype": "text/x-python",
   "name": "python",
   "nbconvert_exporter": "python",
   "pygments_lexer": "ipython3",
   "version": "3.9.13"
  }
 },
 "nbformat": 4,
 "nbformat_minor": 2
}
